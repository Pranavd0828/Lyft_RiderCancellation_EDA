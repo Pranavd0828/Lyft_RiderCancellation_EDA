{
 "cells": [
  {
   "cell_type": "markdown",
   "metadata": {},
   "source": [
    "# Recommendation model for Lyft\n",
    "___"
   ]
  },
  {
   "cell_type": "markdown",
   "metadata": {},
   "source": [
    "Rider Cancellations create bad experiences for both Drivers and Riders on the Lyft platform and impact Lyft financially. The Rider Cancels team is working to develop a new cancellation policy for Lyft, determining how and when riders should be charged a fee for cancelling their ride requests.\n",
    "\n",
    "\n",
    "\n",
    "The goal of this book is to **develop and recommend cancellation fee policy for Lyft**.\n",
    "___\n",
    "We will start first by doing the Exploratory data analysis on the given dataset. After that, we will move on to Feature engineering followed by data modeling. \n",
    "\n",
    "Before doing the modeling, we will try to understand the data and try to interpret various relationship between the variables.\n",
    "\n",
    "___\n"
   ]
  },
  {
   "cell_type": "markdown",
   "metadata": {},
   "source": [
    "### Exploratory Data Analysis "
   ]
  },
  {
   "cell_type": "markdown",
   "metadata": {},
   "source": [
    "#### Let's start by first importing all the necessary libraries for exploratory data analysis"
   ]
  },
  {
   "cell_type": "code",
   "execution_count": 1,
   "metadata": {},
   "outputs": [],
   "source": [
    "import numpy as np\n",
    "import pandas as pd\n",
    "import seaborn as sb\n",
    "import matplotlib.pyplot as plt\n",
    "import datetime as dt\n",
    "\n",
    "import warnings\n",
    "warnings.simplefilter(action='ignore')\n",
    "\n",
    "%matplotlib inline"
   ]
  },
  {
   "cell_type": "markdown",
   "metadata": {},
   "source": [
    "#### Read data from \"ride_data.csv\" and \"experiment_data.csv\" files"
   ]
  },
  {
   "cell_type": "code",
   "execution_count": 2,
   "metadata": {},
   "outputs": [],
   "source": [
    "\n",
    "ride_data = pd.read_csv(\"rider_data.csv\")               \n",
    "\n",
    "experiment_data = pd.read_csv(\"experimental_data.csv\")\n"
   ]
  },
  {
   "cell_type": "markdown",
   "metadata": {},
   "source": [
    "#### Let's look at the first few rows of the data"
   ]
  },
  {
   "cell_type": "code",
   "execution_count": 3,
   "metadata": {},
   "outputs": [
    {
     "data": {
      "text/html": [
       "<div>\n",
       "<style scoped>\n",
       "    .dataframe tbody tr th:only-of-type {\n",
       "        vertical-align: middle;\n",
       "    }\n",
       "\n",
       "    .dataframe tbody tr th {\n",
       "        vertical-align: top;\n",
       "    }\n",
       "\n",
       "    .dataframe thead th {\n",
       "        text-align: right;\n",
       "    }\n",
       "</style>\n",
       "<table border=\"1\" class=\"dataframe\">\n",
       "  <thead>\n",
       "    <tr style=\"text-align: right;\">\n",
       "      <th></th>\n",
       "      <th>ride_id</th>\n",
       "      <th>rider_id</th>\n",
       "      <th>driver_id</th>\n",
       "      <th>ride_type</th>\n",
       "      <th>upfront_fare</th>\n",
       "      <th>rider_paid_amount</th>\n",
       "      <th>eta_to_rider_pre_match</th>\n",
       "      <th>eta_to_rider_post_match</th>\n",
       "      <th>requested_at_local</th>\n",
       "      <th>accepted_at_local</th>\n",
       "      <th>arrived_at_local</th>\n",
       "      <th>picked_up_at_local</th>\n",
       "      <th>dropped_off_at_local</th>\n",
       "      <th>actual_time_to_arrival</th>\n",
       "      <th>cancellation_flag</th>\n",
       "      <th>rider_request_number</th>\n",
       "    </tr>\n",
       "  </thead>\n",
       "  <tbody>\n",
       "    <tr>\n",
       "      <th>0</th>\n",
       "      <td>KCMXI4HAfLCjgHFR2qA1Lg==</td>\n",
       "      <td>AKTYnqStIa+/suWRUAQ60g==</td>\n",
       "      <td>c5U+DL4S+9Kd8xs0jW3ADg==</td>\n",
       "      <td>standard</td>\n",
       "      <td>12.13</td>\n",
       "      <td>17.40</td>\n",
       "      <td>60.0</td>\n",
       "      <td>21.0</td>\n",
       "      <td>2019-05-04 14:08:33.000 America/Los_Angeles</td>\n",
       "      <td>2019-05-04 14:08:43.775 America/Los_Angeles</td>\n",
       "      <td>2019-05-04 14:09:21.508 America/Los_Angeles</td>\n",
       "      <td>2019-05-04 14:10:02.000 America/Los_Angeles</td>\n",
       "      <td>2019-05-04 14:22:34.000 America/Los_Angeles</td>\n",
       "      <td>37.0</td>\n",
       "      <td>0</td>\n",
       "      <td>1</td>\n",
       "    </tr>\n",
       "    <tr>\n",
       "      <th>1</th>\n",
       "      <td>ERylrc+OvEb4gm84MxYmWQ==</td>\n",
       "      <td>ARxb2lRoxbrEgQgDEJIr7Q==</td>\n",
       "      <td>NaN</td>\n",
       "      <td>standard</td>\n",
       "      <td>77.76</td>\n",
       "      <td>1.00</td>\n",
       "      <td>60.0</td>\n",
       "      <td>NaN</td>\n",
       "      <td>2019-05-03 15:26:37.000 America/Los_Angeles</td>\n",
       "      <td>NaN</td>\n",
       "      <td>NaN</td>\n",
       "      <td>NaN</td>\n",
       "      <td>NaN</td>\n",
       "      <td>NaN</td>\n",
       "      <td>1</td>\n",
       "      <td>1</td>\n",
       "    </tr>\n",
       "    <tr>\n",
       "      <th>2</th>\n",
       "      <td>FKVvDcTRe0O1TDpg6uzLgQ==</td>\n",
       "      <td>ARxb2lRoxbrEgQgDEJIr7Q==</td>\n",
       "      <td>HBzAE1FuAnArUgou7Qetow==</td>\n",
       "      <td>standard</td>\n",
       "      <td>7.82</td>\n",
       "      <td>8.17</td>\n",
       "      <td>360.0</td>\n",
       "      <td>541.0</td>\n",
       "      <td>2019-05-10 19:26:29.000 America/Los_Angeles</td>\n",
       "      <td>2019-05-10 19:27:00.632 America/Los_Angeles</td>\n",
       "      <td>2019-05-10 19:37:22.502 America/Los_Angeles</td>\n",
       "      <td>2019-05-10 19:37:24.000 America/Los_Angeles</td>\n",
       "      <td>2019-05-10 19:44:22.000 America/Los_Angeles</td>\n",
       "      <td>621.0</td>\n",
       "      <td>0</td>\n",
       "      <td>2</td>\n",
       "    </tr>\n",
       "    <tr>\n",
       "      <th>3</th>\n",
       "      <td>ELtwBfng4uSyXpBseav1Bg==</td>\n",
       "      <td>AeWaFFe6cKFmfTEnEr6QBQ==</td>\n",
       "      <td>MX3XhXFZAjKpEDIRm5QoMg==</td>\n",
       "      <td>standard</td>\n",
       "      <td>14.76</td>\n",
       "      <td>14.82</td>\n",
       "      <td>60.0</td>\n",
       "      <td>126.0</td>\n",
       "      <td>2019-05-10 23:39:07.000 America/Los_Angeles</td>\n",
       "      <td>2019-05-10 23:39:32.725 America/Los_Angeles</td>\n",
       "      <td>2019-05-10 23:42:24.283 America/Los_Angeles</td>\n",
       "      <td>2019-05-10 23:42:28.000 America/Los_Angeles</td>\n",
       "      <td>2019-05-11 00:02:06.000 America/Los_Angeles</td>\n",
       "      <td>171.0</td>\n",
       "      <td>0</td>\n",
       "      <td>1</td>\n",
       "    </tr>\n",
       "    <tr>\n",
       "      <th>4</th>\n",
       "      <td>OmCaoDxSXwN3nJzg8Jwamw==</td>\n",
       "      <td>Au8G9PfP3KN3SUnTPO+mMQ==</td>\n",
       "      <td>lqj+gQA7gRITBlHwTCM8Rg==</td>\n",
       "      <td>standard</td>\n",
       "      <td>18.05</td>\n",
       "      <td>17.78</td>\n",
       "      <td>360.0</td>\n",
       "      <td>587.0</td>\n",
       "      <td>2019-05-08 13:52:08.000 America/Los_Angeles</td>\n",
       "      <td>2019-05-08 13:53:24.871 America/Los_Angeles</td>\n",
       "      <td>2019-05-08 14:03:34.987 America/Los_Angeles</td>\n",
       "      <td>2019-05-08 14:03:39.000 America/Los_Angeles</td>\n",
       "      <td>2019-05-08 14:18:35.000 America/Los_Angeles</td>\n",
       "      <td>610.0</td>\n",
       "      <td>0</td>\n",
       "      <td>1</td>\n",
       "    </tr>\n",
       "  </tbody>\n",
       "</table>\n",
       "</div>"
      ],
      "text/plain": [
       "                    ride_id                  rider_id  \\\n",
       "0  KCMXI4HAfLCjgHFR2qA1Lg==  AKTYnqStIa+/suWRUAQ60g==   \n",
       "1  ERylrc+OvEb4gm84MxYmWQ==  ARxb2lRoxbrEgQgDEJIr7Q==   \n",
       "2  FKVvDcTRe0O1TDpg6uzLgQ==  ARxb2lRoxbrEgQgDEJIr7Q==   \n",
       "3  ELtwBfng4uSyXpBseav1Bg==  AeWaFFe6cKFmfTEnEr6QBQ==   \n",
       "4  OmCaoDxSXwN3nJzg8Jwamw==  Au8G9PfP3KN3SUnTPO+mMQ==   \n",
       "\n",
       "                  driver_id ride_type  upfront_fare  rider_paid_amount  \\\n",
       "0  c5U+DL4S+9Kd8xs0jW3ADg==  standard         12.13              17.40   \n",
       "1                       NaN  standard         77.76               1.00   \n",
       "2  HBzAE1FuAnArUgou7Qetow==  standard          7.82               8.17   \n",
       "3  MX3XhXFZAjKpEDIRm5QoMg==  standard         14.76              14.82   \n",
       "4  lqj+gQA7gRITBlHwTCM8Rg==  standard         18.05              17.78   \n",
       "\n",
       "   eta_to_rider_pre_match  eta_to_rider_post_match  \\\n",
       "0                    60.0                     21.0   \n",
       "1                    60.0                      NaN   \n",
       "2                   360.0                    541.0   \n",
       "3                    60.0                    126.0   \n",
       "4                   360.0                    587.0   \n",
       "\n",
       "                            requested_at_local  \\\n",
       "0  2019-05-04 14:08:33.000 America/Los_Angeles   \n",
       "1  2019-05-03 15:26:37.000 America/Los_Angeles   \n",
       "2  2019-05-10 19:26:29.000 America/Los_Angeles   \n",
       "3  2019-05-10 23:39:07.000 America/Los_Angeles   \n",
       "4  2019-05-08 13:52:08.000 America/Los_Angeles   \n",
       "\n",
       "                             accepted_at_local  \\\n",
       "0  2019-05-04 14:08:43.775 America/Los_Angeles   \n",
       "1                                          NaN   \n",
       "2  2019-05-10 19:27:00.632 America/Los_Angeles   \n",
       "3  2019-05-10 23:39:32.725 America/Los_Angeles   \n",
       "4  2019-05-08 13:53:24.871 America/Los_Angeles   \n",
       "\n",
       "                              arrived_at_local  \\\n",
       "0  2019-05-04 14:09:21.508 America/Los_Angeles   \n",
       "1                                          NaN   \n",
       "2  2019-05-10 19:37:22.502 America/Los_Angeles   \n",
       "3  2019-05-10 23:42:24.283 America/Los_Angeles   \n",
       "4  2019-05-08 14:03:34.987 America/Los_Angeles   \n",
       "\n",
       "                            picked_up_at_local  \\\n",
       "0  2019-05-04 14:10:02.000 America/Los_Angeles   \n",
       "1                                          NaN   \n",
       "2  2019-05-10 19:37:24.000 America/Los_Angeles   \n",
       "3  2019-05-10 23:42:28.000 America/Los_Angeles   \n",
       "4  2019-05-08 14:03:39.000 America/Los_Angeles   \n",
       "\n",
       "                          dropped_off_at_local  actual_time_to_arrival  \\\n",
       "0  2019-05-04 14:22:34.000 America/Los_Angeles                    37.0   \n",
       "1                                          NaN                     NaN   \n",
       "2  2019-05-10 19:44:22.000 America/Los_Angeles                   621.0   \n",
       "3  2019-05-11 00:02:06.000 America/Los_Angeles                   171.0   \n",
       "4  2019-05-08 14:18:35.000 America/Los_Angeles                   610.0   \n",
       "\n",
       "   cancellation_flag  rider_request_number  \n",
       "0                  0                     1  \n",
       "1                  1                     1  \n",
       "2                  0                     2  \n",
       "3                  0                     1  \n",
       "4                  0                     1  "
      ]
     },
     "execution_count": 3,
     "metadata": {},
     "output_type": "execute_result"
    }
   ],
   "source": [
    "ride_data.head()"
   ]
  },
  {
   "cell_type": "code",
   "execution_count": 4,
   "metadata": {},
   "outputs": [
    {
     "data": {
      "text/html": [
       "<div>\n",
       "<style scoped>\n",
       "    .dataframe tbody tr th:only-of-type {\n",
       "        vertical-align: middle;\n",
       "    }\n",
       "\n",
       "    .dataframe tbody tr th {\n",
       "        vertical-align: top;\n",
       "    }\n",
       "\n",
       "    .dataframe thead th {\n",
       "        text-align: right;\n",
       "    }\n",
       "</style>\n",
       "<table border=\"1\" class=\"dataframe\">\n",
       "  <thead>\n",
       "    <tr style=\"text-align: right;\">\n",
       "      <th></th>\n",
       "      <th>rider_id</th>\n",
       "      <th>variant</th>\n",
       "      <th>cancel_penalty</th>\n",
       "    </tr>\n",
       "  </thead>\n",
       "  <tbody>\n",
       "    <tr>\n",
       "      <th>0</th>\n",
       "      <td>+++3990cLNPGgaPm+ripGg==</td>\n",
       "      <td>control</td>\n",
       "      <td>5.0</td>\n",
       "    </tr>\n",
       "    <tr>\n",
       "      <th>1</th>\n",
       "      <td>+++stf7DqWcT8LMTYbXrwA==</td>\n",
       "      <td>control</td>\n",
       "      <td>5.0</td>\n",
       "    </tr>\n",
       "    <tr>\n",
       "      <th>2</th>\n",
       "      <td>++07zTPYFhvA5Ug72kRd0w==</td>\n",
       "      <td>treatment1</td>\n",
       "      <td>3.0</td>\n",
       "    </tr>\n",
       "    <tr>\n",
       "      <th>3</th>\n",
       "      <td>++08hetKFBNoOO5XHAH/5A==</td>\n",
       "      <td>treatment2</td>\n",
       "      <td>1.0</td>\n",
       "    </tr>\n",
       "    <tr>\n",
       "      <th>4</th>\n",
       "      <td>++0YwCvnfyMWSNH3wpyP1g==</td>\n",
       "      <td>treatment2</td>\n",
       "      <td>1.0</td>\n",
       "    </tr>\n",
       "  </tbody>\n",
       "</table>\n",
       "</div>"
      ],
      "text/plain": [
       "                   rider_id     variant  cancel_penalty\n",
       "0  +++3990cLNPGgaPm+ripGg==     control             5.0\n",
       "1  +++stf7DqWcT8LMTYbXrwA==     control             5.0\n",
       "2  ++07zTPYFhvA5Ug72kRd0w==  treatment1             3.0\n",
       "3  ++08hetKFBNoOO5XHAH/5A==  treatment2             1.0\n",
       "4  ++0YwCvnfyMWSNH3wpyP1g==  treatment2             1.0"
      ]
     },
     "execution_count": 4,
     "metadata": {},
     "output_type": "execute_result"
    }
   ],
   "source": [
    "experiment_data.head()"
   ]
  },
  {
   "cell_type": "markdown",
   "metadata": {},
   "source": [
    "#### Let's have a closer look at the two dataframes"
   ]
  },
  {
   "cell_type": "code",
   "execution_count": 5,
   "metadata": {},
   "outputs": [
    {
     "name": "stdout",
     "output_type": "stream",
     "text": [
      "<class 'pandas.core.frame.DataFrame'>\n",
      "RangeIndex: 530756 entries, 0 to 530755\n",
      "Data columns (total 3 columns):\n",
      " #   Column          Non-Null Count   Dtype  \n",
      "---  ------          --------------   -----  \n",
      " 0   rider_id        530756 non-null  object \n",
      " 1   variant         530756 non-null  object \n",
      " 2   cancel_penalty  530756 non-null  float64\n",
      "dtypes: float64(1), object(2)\n",
      "memory usage: 12.1+ MB\n"
     ]
    }
   ],
   "source": [
    "experiment_data.info()"
   ]
  },
  {
   "cell_type": "code",
   "execution_count": 6,
   "metadata": {},
   "outputs": [
    {
     "name": "stdout",
     "output_type": "stream",
     "text": [
      "<class 'pandas.core.frame.DataFrame'>\n",
      "RangeIndex: 1402312 entries, 0 to 1402311\n",
      "Data columns (total 16 columns):\n",
      " #   Column                   Non-Null Count    Dtype  \n",
      "---  ------                   --------------    -----  \n",
      " 0   ride_id                  1402312 non-null  object \n",
      " 1   rider_id                 1402312 non-null  object \n",
      " 2   driver_id                1367819 non-null  object \n",
      " 3   ride_type                1402312 non-null  object \n",
      " 4   upfront_fare             1397335 non-null  float64\n",
      " 5   rider_paid_amount        1402312 non-null  float64\n",
      " 6   eta_to_rider_pre_match   1334909 non-null  float64\n",
      " 7   eta_to_rider_post_match  1367790 non-null  float64\n",
      " 8   requested_at_local       1402312 non-null  object \n",
      " 9   accepted_at_local        1367790 non-null  object \n",
      " 10  arrived_at_local         1193519 non-null  object \n",
      " 11  picked_up_at_local       1193511 non-null  object \n",
      " 12  dropped_off_at_local     1193487 non-null  object \n",
      " 13  actual_time_to_arrival   1193491 non-null  float64\n",
      " 14  cancellation_flag        1402312 non-null  int64  \n",
      " 15  rider_request_number     1402312 non-null  int64  \n",
      "dtypes: float64(5), int64(2), object(9)\n",
      "memory usage: 171.2+ MB\n"
     ]
    }
   ],
   "source": [
    "ride_data.info()"
   ]
  },
  {
   "cell_type": "code",
   "execution_count": 7,
   "metadata": {},
   "outputs": [
    {
     "name": "stdout",
     "output_type": "stream",
     "text": [
      "No. of Unique rides   :  1402312\n",
      "No. of Unique riders  :  530756\n",
      "No. of Unique drivers :  36385\n"
     ]
    }
   ],
   "source": [
    "print(\"No. of Unique rides   : \",ride_data[\"ride_id\"].nunique())\n",
    "print(\"No. of Unique riders  : \",ride_data[\"rider_id\"].nunique())\n",
    "print(\"No. of Unique drivers : \",ride_data[\"driver_id\"].nunique())"
   ]
  },
  {
   "cell_type": "markdown",
   "metadata": {},
   "source": [
    "From observing the **ride_data**, we can see that there are 1402312 unique rides (no missing values in ride_id) of 530756 unique riders (rider_id is repeated), and 36385 unique drivers.\n",
    "\n",
    "From observing the **experiment_data**, we can see that all 530756 riders with their unique rider_id are being assigned to different variant in the experiment_data.\n",
    "\n",
    "___\n",
    "\n",
    "Now we will **merge the dataset** so that every rider_id gets its respective variant and cancel_penalty.\n",
    "\n",
    "- We will use the conditional merge from pandas, to join the aforementioned dataframes.\n",
    "\n",
    "- It is also clear that, we have no missing values in the experiment_data.\n",
    "\n",
    "- This way, we will only need to address one dataframe throughout our analysis.\n"
   ]
  },
  {
   "cell_type": "code",
   "execution_count": 8,
   "metadata": {},
   "outputs": [],
   "source": [
    "ride_data = ride_data.merge(experiment_data, how='inner', left_on=['rider_id'], right_on=['rider_id'])"
   ]
  },
  {
   "cell_type": "code",
   "execution_count": 9,
   "metadata": {},
   "outputs": [
    {
     "data": {
      "text/html": [
       "<div>\n",
       "<style scoped>\n",
       "    .dataframe tbody tr th:only-of-type {\n",
       "        vertical-align: middle;\n",
       "    }\n",
       "\n",
       "    .dataframe tbody tr th {\n",
       "        vertical-align: top;\n",
       "    }\n",
       "\n",
       "    .dataframe thead th {\n",
       "        text-align: right;\n",
       "    }\n",
       "</style>\n",
       "<table border=\"1\" class=\"dataframe\">\n",
       "  <thead>\n",
       "    <tr style=\"text-align: right;\">\n",
       "      <th></th>\n",
       "      <th>ride_id</th>\n",
       "      <th>rider_id</th>\n",
       "      <th>driver_id</th>\n",
       "      <th>ride_type</th>\n",
       "      <th>upfront_fare</th>\n",
       "      <th>rider_paid_amount</th>\n",
       "      <th>eta_to_rider_pre_match</th>\n",
       "      <th>eta_to_rider_post_match</th>\n",
       "      <th>requested_at_local</th>\n",
       "      <th>accepted_at_local</th>\n",
       "      <th>arrived_at_local</th>\n",
       "      <th>picked_up_at_local</th>\n",
       "      <th>dropped_off_at_local</th>\n",
       "      <th>actual_time_to_arrival</th>\n",
       "      <th>cancellation_flag</th>\n",
       "      <th>rider_request_number</th>\n",
       "      <th>variant</th>\n",
       "      <th>cancel_penalty</th>\n",
       "    </tr>\n",
       "  </thead>\n",
       "  <tbody>\n",
       "    <tr>\n",
       "      <th>0</th>\n",
       "      <td>KCMXI4HAfLCjgHFR2qA1Lg==</td>\n",
       "      <td>AKTYnqStIa+/suWRUAQ60g==</td>\n",
       "      <td>c5U+DL4S+9Kd8xs0jW3ADg==</td>\n",
       "      <td>standard</td>\n",
       "      <td>12.13</td>\n",
       "      <td>17.40</td>\n",
       "      <td>60.0</td>\n",
       "      <td>21.0</td>\n",
       "      <td>2019-05-04 14:08:33.000 America/Los_Angeles</td>\n",
       "      <td>2019-05-04 14:08:43.775 America/Los_Angeles</td>\n",
       "      <td>2019-05-04 14:09:21.508 America/Los_Angeles</td>\n",
       "      <td>2019-05-04 14:10:02.000 America/Los_Angeles</td>\n",
       "      <td>2019-05-04 14:22:34.000 America/Los_Angeles</td>\n",
       "      <td>37.0</td>\n",
       "      <td>0</td>\n",
       "      <td>1</td>\n",
       "      <td>treatment1</td>\n",
       "      <td>3.0</td>\n",
       "    </tr>\n",
       "    <tr>\n",
       "      <th>1</th>\n",
       "      <td>ERylrc+OvEb4gm84MxYmWQ==</td>\n",
       "      <td>ARxb2lRoxbrEgQgDEJIr7Q==</td>\n",
       "      <td>NaN</td>\n",
       "      <td>standard</td>\n",
       "      <td>77.76</td>\n",
       "      <td>1.00</td>\n",
       "      <td>60.0</td>\n",
       "      <td>NaN</td>\n",
       "      <td>2019-05-03 15:26:37.000 America/Los_Angeles</td>\n",
       "      <td>NaN</td>\n",
       "      <td>NaN</td>\n",
       "      <td>NaN</td>\n",
       "      <td>NaN</td>\n",
       "      <td>NaN</td>\n",
       "      <td>1</td>\n",
       "      <td>1</td>\n",
       "      <td>treatment2</td>\n",
       "      <td>1.0</td>\n",
       "    </tr>\n",
       "    <tr>\n",
       "      <th>2</th>\n",
       "      <td>FKVvDcTRe0O1TDpg6uzLgQ==</td>\n",
       "      <td>ARxb2lRoxbrEgQgDEJIr7Q==</td>\n",
       "      <td>HBzAE1FuAnArUgou7Qetow==</td>\n",
       "      <td>standard</td>\n",
       "      <td>7.82</td>\n",
       "      <td>8.17</td>\n",
       "      <td>360.0</td>\n",
       "      <td>541.0</td>\n",
       "      <td>2019-05-10 19:26:29.000 America/Los_Angeles</td>\n",
       "      <td>2019-05-10 19:27:00.632 America/Los_Angeles</td>\n",
       "      <td>2019-05-10 19:37:22.502 America/Los_Angeles</td>\n",
       "      <td>2019-05-10 19:37:24.000 America/Los_Angeles</td>\n",
       "      <td>2019-05-10 19:44:22.000 America/Los_Angeles</td>\n",
       "      <td>621.0</td>\n",
       "      <td>0</td>\n",
       "      <td>2</td>\n",
       "      <td>treatment2</td>\n",
       "      <td>1.0</td>\n",
       "    </tr>\n",
       "    <tr>\n",
       "      <th>3</th>\n",
       "      <td>ELtwBfng4uSyXpBseav1Bg==</td>\n",
       "      <td>AeWaFFe6cKFmfTEnEr6QBQ==</td>\n",
       "      <td>MX3XhXFZAjKpEDIRm5QoMg==</td>\n",
       "      <td>standard</td>\n",
       "      <td>14.76</td>\n",
       "      <td>14.82</td>\n",
       "      <td>60.0</td>\n",
       "      <td>126.0</td>\n",
       "      <td>2019-05-10 23:39:07.000 America/Los_Angeles</td>\n",
       "      <td>2019-05-10 23:39:32.725 America/Los_Angeles</td>\n",
       "      <td>2019-05-10 23:42:24.283 America/Los_Angeles</td>\n",
       "      <td>2019-05-10 23:42:28.000 America/Los_Angeles</td>\n",
       "      <td>2019-05-11 00:02:06.000 America/Los_Angeles</td>\n",
       "      <td>171.0</td>\n",
       "      <td>0</td>\n",
       "      <td>1</td>\n",
       "      <td>treatment2</td>\n",
       "      <td>1.0</td>\n",
       "    </tr>\n",
       "    <tr>\n",
       "      <th>4</th>\n",
       "      <td>OmCaoDxSXwN3nJzg8Jwamw==</td>\n",
       "      <td>Au8G9PfP3KN3SUnTPO+mMQ==</td>\n",
       "      <td>lqj+gQA7gRITBlHwTCM8Rg==</td>\n",
       "      <td>standard</td>\n",
       "      <td>18.05</td>\n",
       "      <td>17.78</td>\n",
       "      <td>360.0</td>\n",
       "      <td>587.0</td>\n",
       "      <td>2019-05-08 13:52:08.000 America/Los_Angeles</td>\n",
       "      <td>2019-05-08 13:53:24.871 America/Los_Angeles</td>\n",
       "      <td>2019-05-08 14:03:34.987 America/Los_Angeles</td>\n",
       "      <td>2019-05-08 14:03:39.000 America/Los_Angeles</td>\n",
       "      <td>2019-05-08 14:18:35.000 America/Los_Angeles</td>\n",
       "      <td>610.0</td>\n",
       "      <td>0</td>\n",
       "      <td>1</td>\n",
       "      <td>treatment2</td>\n",
       "      <td>1.0</td>\n",
       "    </tr>\n",
       "  </tbody>\n",
       "</table>\n",
       "</div>"
      ],
      "text/plain": [
       "                    ride_id                  rider_id  \\\n",
       "0  KCMXI4HAfLCjgHFR2qA1Lg==  AKTYnqStIa+/suWRUAQ60g==   \n",
       "1  ERylrc+OvEb4gm84MxYmWQ==  ARxb2lRoxbrEgQgDEJIr7Q==   \n",
       "2  FKVvDcTRe0O1TDpg6uzLgQ==  ARxb2lRoxbrEgQgDEJIr7Q==   \n",
       "3  ELtwBfng4uSyXpBseav1Bg==  AeWaFFe6cKFmfTEnEr6QBQ==   \n",
       "4  OmCaoDxSXwN3nJzg8Jwamw==  Au8G9PfP3KN3SUnTPO+mMQ==   \n",
       "\n",
       "                  driver_id ride_type  upfront_fare  rider_paid_amount  \\\n",
       "0  c5U+DL4S+9Kd8xs0jW3ADg==  standard         12.13              17.40   \n",
       "1                       NaN  standard         77.76               1.00   \n",
       "2  HBzAE1FuAnArUgou7Qetow==  standard          7.82               8.17   \n",
       "3  MX3XhXFZAjKpEDIRm5QoMg==  standard         14.76              14.82   \n",
       "4  lqj+gQA7gRITBlHwTCM8Rg==  standard         18.05              17.78   \n",
       "\n",
       "   eta_to_rider_pre_match  eta_to_rider_post_match  \\\n",
       "0                    60.0                     21.0   \n",
       "1                    60.0                      NaN   \n",
       "2                   360.0                    541.0   \n",
       "3                    60.0                    126.0   \n",
       "4                   360.0                    587.0   \n",
       "\n",
       "                            requested_at_local  \\\n",
       "0  2019-05-04 14:08:33.000 America/Los_Angeles   \n",
       "1  2019-05-03 15:26:37.000 America/Los_Angeles   \n",
       "2  2019-05-10 19:26:29.000 America/Los_Angeles   \n",
       "3  2019-05-10 23:39:07.000 America/Los_Angeles   \n",
       "4  2019-05-08 13:52:08.000 America/Los_Angeles   \n",
       "\n",
       "                             accepted_at_local  \\\n",
       "0  2019-05-04 14:08:43.775 America/Los_Angeles   \n",
       "1                                          NaN   \n",
       "2  2019-05-10 19:27:00.632 America/Los_Angeles   \n",
       "3  2019-05-10 23:39:32.725 America/Los_Angeles   \n",
       "4  2019-05-08 13:53:24.871 America/Los_Angeles   \n",
       "\n",
       "                              arrived_at_local  \\\n",
       "0  2019-05-04 14:09:21.508 America/Los_Angeles   \n",
       "1                                          NaN   \n",
       "2  2019-05-10 19:37:22.502 America/Los_Angeles   \n",
       "3  2019-05-10 23:42:24.283 America/Los_Angeles   \n",
       "4  2019-05-08 14:03:34.987 America/Los_Angeles   \n",
       "\n",
       "                            picked_up_at_local  \\\n",
       "0  2019-05-04 14:10:02.000 America/Los_Angeles   \n",
       "1                                          NaN   \n",
       "2  2019-05-10 19:37:24.000 America/Los_Angeles   \n",
       "3  2019-05-10 23:42:28.000 America/Los_Angeles   \n",
       "4  2019-05-08 14:03:39.000 America/Los_Angeles   \n",
       "\n",
       "                          dropped_off_at_local  actual_time_to_arrival  \\\n",
       "0  2019-05-04 14:22:34.000 America/Los_Angeles                    37.0   \n",
       "1                                          NaN                     NaN   \n",
       "2  2019-05-10 19:44:22.000 America/Los_Angeles                   621.0   \n",
       "3  2019-05-11 00:02:06.000 America/Los_Angeles                   171.0   \n",
       "4  2019-05-08 14:18:35.000 America/Los_Angeles                   610.0   \n",
       "\n",
       "   cancellation_flag  rider_request_number     variant  cancel_penalty  \n",
       "0                  0                     1  treatment1             3.0  \n",
       "1                  1                     1  treatment2             1.0  \n",
       "2                  0                     2  treatment2             1.0  \n",
       "3                  0                     1  treatment2             1.0  \n",
       "4                  0                     1  treatment2             1.0  "
      ]
     },
     "execution_count": 9,
     "metadata": {},
     "output_type": "execute_result"
    }
   ],
   "source": [
    "ride_data.head()"
   ]
  },
  {
   "cell_type": "code",
   "execution_count": 10,
   "metadata": {},
   "outputs": [
    {
     "name": "stdout",
     "output_type": "stream",
     "text": [
      "<class 'pandas.core.frame.DataFrame'>\n",
      "Int64Index: 1402312 entries, 0 to 1402311\n",
      "Data columns (total 18 columns):\n",
      " #   Column                   Non-Null Count    Dtype  \n",
      "---  ------                   --------------    -----  \n",
      " 0   ride_id                  1402312 non-null  object \n",
      " 1   rider_id                 1402312 non-null  object \n",
      " 2   driver_id                1367819 non-null  object \n",
      " 3   ride_type                1402312 non-null  object \n",
      " 4   upfront_fare             1397335 non-null  float64\n",
      " 5   rider_paid_amount        1402312 non-null  float64\n",
      " 6   eta_to_rider_pre_match   1334909 non-null  float64\n",
      " 7   eta_to_rider_post_match  1367790 non-null  float64\n",
      " 8   requested_at_local       1402312 non-null  object \n",
      " 9   accepted_at_local        1367790 non-null  object \n",
      " 10  arrived_at_local         1193519 non-null  object \n",
      " 11  picked_up_at_local       1193511 non-null  object \n",
      " 12  dropped_off_at_local     1193487 non-null  object \n",
      " 13  actual_time_to_arrival   1193491 non-null  float64\n",
      " 14  cancellation_flag        1402312 non-null  int64  \n",
      " 15  rider_request_number     1402312 non-null  int64  \n",
      " 16  variant                  1402312 non-null  object \n",
      " 17  cancel_penalty           1402312 non-null  float64\n",
      "dtypes: float64(6), int64(2), object(10)\n",
      "memory usage: 203.3+ MB\n"
     ]
    }
   ],
   "source": [
    "ride_data.info()"
   ]
  },
  {
   "cell_type": "code",
   "execution_count": 11,
   "metadata": {},
   "outputs": [
    {
     "data": {
      "text/plain": [
       "('2019-04-14 17:00:01.000 America/Los_Angeles',\n",
       " '2019-05-26 16:59:56.000 America/Los_Angeles')"
      ]
     },
     "execution_count": 11,
     "metadata": {},
     "output_type": "execute_result"
    }
   ],
   "source": [
    "ride_data['requested_at_local'].min(), ride_data['requested_at_local'].max()"
   ]
  },
  {
   "cell_type": "markdown",
   "metadata": {},
   "source": [
    "From the output above, we can clearly see that given dataset has **first requested ride on April 14, 2019** and the **last requested ride on May 26, 2019**"
   ]
  },
  {
   "cell_type": "code",
   "execution_count": 12,
   "metadata": {},
   "outputs": [
    {
     "name": "stdout",
     "output_type": "stream",
     "text": [
      "1402312\n"
     ]
    }
   ],
   "source": [
    "count_=ride_data[\"requested_at_local\"].str.count(\"America/Los_Angeles\").sum()\n",
    "print(count_)"
   ]
  },
  {
   "cell_type": "markdown",
   "metadata": {},
   "source": [
    "\n",
    "The given data has only one timezone, **\"America/Los_Angeles\"**, we will split all the timestamp variable in different columns\n",
    "\n",
    "\n",
    "We will first remove \"America/Los_Angeles\" and then convert the timestamp variable in **datetime format.**\n",
    "\n"
   ]
  },
  {
   "cell_type": "code",
   "execution_count": 13,
   "metadata": {},
   "outputs": [],
   "source": [
    "ride_data[\"requested_at_local\"]=ride_data[\"requested_at_local\"].str.replace(\" America/Los_Angeles\",\"\")\n",
    "ride_data[\"accepted_at_local\"]=ride_data[\"accepted_at_local\"].str.replace(\" America/Los_Angeles\",\"\")\n",
    "ride_data[\"arrived_at_local\"]=ride_data[\"arrived_at_local\"].str.replace(\" America/Los_Angeles\",\"\")\n",
    "ride_data[\"picked_up_at_local\"]=ride_data[\"picked_up_at_local\"].str.replace(\" America/Los_Angeles\",\"\")\n",
    "ride_data[\"dropped_off_at_local\"]=ride_data[\"dropped_off_at_local\"].str.replace(\" America/Los_Angeles\",\"\")"
   ]
  },
  {
   "cell_type": "markdown",
   "metadata": {},
   "source": [
    "\n",
    "\n",
    "We will use **str.replace** for removing \"America/Los_Angeles\" from the column values and then use pandas **to_datetime()** function for the conversion"
   ]
  },
  {
   "cell_type": "code",
   "execution_count": 14,
   "metadata": {},
   "outputs": [],
   "source": [
    "ride_data[\"requested_at_local\"] = pd.to_datetime(ride_data[\"requested_at_local\"])\n",
    "ride_data[\"accepted_at_local\"] = pd.to_datetime(ride_data[\"accepted_at_local\"])\n",
    "ride_data[\"arrived_at_local\"] = pd.to_datetime(ride_data[\"arrived_at_local\"])\n",
    "ride_data[\"picked_up_at_local\"] = pd.to_datetime(ride_data[\"picked_up_at_local\"])\n",
    "ride_data[\"dropped_off_at_local\"] = pd.to_datetime(ride_data[\"dropped_off_at_local\"])"
   ]
  },
  {
   "cell_type": "code",
   "execution_count": 15,
   "metadata": {
    "scrolled": true
   },
   "outputs": [
    {
     "data": {
      "text/plain": [
       "ride_id                            object\n",
       "rider_id                           object\n",
       "driver_id                          object\n",
       "ride_type                          object\n",
       "upfront_fare                      float64\n",
       "rider_paid_amount                 float64\n",
       "eta_to_rider_pre_match            float64\n",
       "eta_to_rider_post_match           float64\n",
       "requested_at_local         datetime64[ns]\n",
       "accepted_at_local          datetime64[ns]\n",
       "arrived_at_local           datetime64[ns]\n",
       "picked_up_at_local         datetime64[ns]\n",
       "dropped_off_at_local       datetime64[ns]\n",
       "actual_time_to_arrival            float64\n",
       "cancellation_flag                   int64\n",
       "rider_request_number                int64\n",
       "variant                            object\n",
       "cancel_penalty                    float64\n",
       "dtype: object"
      ]
     },
     "execution_count": 15,
     "metadata": {},
     "output_type": "execute_result"
    }
   ],
   "source": [
    "ride_data.dtypes"
   ]
  },
  {
   "cell_type": "markdown",
   "metadata": {},
   "source": [
    "#### Splitting all the time stamps in readable format\n",
    "\n",
    "This way, we can get a good grasp of the time, date, day, and month. Datetime libraries provide various options to retrive the exact date, day of the year, day of the week etc., from the timestamp value.\n",
    "\n",
    "(Note that we aren't creating a seperate column for the year since it is in the same year, 2019)\n"
   ]
  },
  {
   "cell_type": "code",
   "execution_count": 17,
   "metadata": {},
   "outputs": [],
   "source": [
    "ride_data[\"requested_day_of_year\"] = ride_data[\"requested_at_local\"].dt.dayofyear\n",
    "ride_data[\"requested_on_day\"] = ride_data[\"requested_at_local\"].dt.weekday\n",
    "ride_data[\"requested_at_time\"] = ride_data[\"requested_at_local\"].dt.time\n",
    "ride_data[\"requested_at_hour\"] = ride_data[\"requested_at_local\"].dt.hour"
   ]
  },
  {
   "cell_type": "code",
   "execution_count": 19,
   "metadata": {},
   "outputs": [],
   "source": [
    "ride_data[\"accepted_day_of_year\"] = ride_data[\"accepted_at_local\"].dt.dayofyear\n",
    "ride_data[\"accepted_on_day\"] = ride_data[\"accepted_at_local\"].dt.weekday\n",
    "ride_data[\"accepted_at_time\"] = ride_data[\"accepted_at_local\"].dt.time\n",
    "ride_data[\"accepted_at_hour\"] = ride_data[\"accepted_at_local\"].dt.hour"
   ]
  },
  {
   "cell_type": "code",
   "execution_count": 20,
   "metadata": {},
   "outputs": [
    {
     "data": {
      "text/plain": [
       "(ride_id                         0\n",
       " rider_id                        0\n",
       " driver_id                   32751\n",
       " ride_type                       0\n",
       " upfront_fare                  688\n",
       " rider_paid_amount               0\n",
       " eta_to_rider_pre_match      12245\n",
       " eta_to_rider_post_match     32752\n",
       " requested_at_local              0\n",
       " accepted_at_local           32752\n",
       " arrived_at_local           207050\n",
       " picked_up_at_local         207050\n",
       " dropped_off_at_local       207050\n",
       " actual_time_to_arrival     207050\n",
       " cancellation_flag               0\n",
       " rider_request_number            0\n",
       " variant                         0\n",
       " cancel_penalty                  0\n",
       " requested_day_of_year           0\n",
       " requested_on_day                0\n",
       " requested_at_time               0\n",
       " requested_at_hour               0\n",
       " accepted_day_of_year        32752\n",
       " accepted_on_day             32752\n",
       " accepted_at_time            32752\n",
       " accepted_at_hour            32752\n",
       " dtype: int64, (207050, 26))"
      ]
     },
     "execution_count": 20,
     "metadata": {},
     "output_type": "execute_result"
    }
   ],
   "source": [
    "ride_data[ride_data[\"cancellation_flag\"]==1].isnull().sum(), ride_data[ride_data[\"cancellation_flag\"]==1].shape"
   ]
  },
  {
   "cell_type": "code",
   "execution_count": 21,
   "metadata": {
    "scrolled": false
   },
   "outputs": [
    {
     "data": {
      "text/html": [
       "<div>\n",
       "<style scoped>\n",
       "    .dataframe tbody tr th:only-of-type {\n",
       "        vertical-align: middle;\n",
       "    }\n",
       "\n",
       "    .dataframe tbody tr th {\n",
       "        vertical-align: top;\n",
       "    }\n",
       "\n",
       "    .dataframe thead th {\n",
       "        text-align: right;\n",
       "    }\n",
       "</style>\n",
       "<table border=\"1\" class=\"dataframe\">\n",
       "  <thead>\n",
       "    <tr style=\"text-align: right;\">\n",
       "      <th></th>\n",
       "      <th>requested_at_local</th>\n",
       "      <th>accepted_at_local</th>\n",
       "      <th>arrived_at_local</th>\n",
       "      <th>picked_up_at_local</th>\n",
       "    </tr>\n",
       "    <tr>\n",
       "      <th>cancellation_flag</th>\n",
       "      <th></th>\n",
       "      <th></th>\n",
       "      <th></th>\n",
       "      <th></th>\n",
       "    </tr>\n",
       "  </thead>\n",
       "  <tbody>\n",
       "    <tr>\n",
       "      <th>0</th>\n",
       "      <td>1195262</td>\n",
       "      <td>1193492</td>\n",
       "      <td>1193519</td>\n",
       "      <td>1193511</td>\n",
       "    </tr>\n",
       "    <tr>\n",
       "      <th>1</th>\n",
       "      <td>207050</td>\n",
       "      <td>174298</td>\n",
       "      <td>0</td>\n",
       "      <td>0</td>\n",
       "    </tr>\n",
       "  </tbody>\n",
       "</table>\n",
       "</div>"
      ],
      "text/plain": [
       "                   requested_at_local  accepted_at_local  arrived_at_local  \\\n",
       "cancellation_flag                                                            \n",
       "0                             1195262            1193492           1193519   \n",
       "1                              207050             174298                 0   \n",
       "\n",
       "                   picked_up_at_local  \n",
       "cancellation_flag                      \n",
       "0                             1193511  \n",
       "1                                   0  "
      ]
     },
     "execution_count": 21,
     "metadata": {},
     "output_type": "execute_result"
    }
   ],
   "source": [
    "ride_data.groupby(\"cancellation_flag\")[\"requested_at_local\", \n",
    "                                       \"accepted_at_local\", \"arrived_at_local\", \n",
    "                                       \"picked_up_at_local\"].count()"
   ]
  },
  {
   "cell_type": "markdown",
   "metadata": {},
   "source": [
    "\n",
    "#### From the above output, we know,\n",
    "\n",
    "- Total Rides cancelled after the request was made:   207050 \n",
    "\n",
    "\n",
    "- Total Rides cancelled after the request was accepted:   174298\n",
    "\n",
    "\n",
    "- Total Rides cancelled after the driver arrived:   0 \n",
    "\n",
    "\n",
    "- Total Rides cancelled after the driver picked up the passenger:   0 \n"
   ]
  },
  {
   "cell_type": "markdown",
   "metadata": {},
   "source": [
    "#### It is clear that, for 207050 cancellations, there is not a single observation in which the rider has arrived at the location and then the passenger has cancelled the ride.\n",
    "\n",
    "- It shows that, we don't need \"arrived_at_local\", \"picked_up_at_local\", \"dropped_off_at_local\", and \"actual_time_to_arrival\" variables from this dataset, to develop a cancellation policy.\n",
    "\n",
    "- Also, since we have already splitted the timestamp variable in day_of_year, day_of_week, time, hour, we don't need \"requested_at_local\", and \"accepted_at_local\" variables"
   ]
  },
  {
   "cell_type": "code",
   "execution_count": 22,
   "metadata": {},
   "outputs": [],
   "source": [
    "ride_data.drop([\"arrived_at_local\", \"picked_up_at_local\", \n",
    "                \"dropped_off_at_local\", \"actual_time_to_arrival\",\n",
    "               \"requested_at_local\", \"accepted_at_local\"], axis = 1, inplace=True)"
   ]
  },
  {
   "cell_type": "code",
   "execution_count": 23,
   "metadata": {},
   "outputs": [
    {
     "data": {
      "text/html": [
       "<div>\n",
       "<style scoped>\n",
       "    .dataframe tbody tr th:only-of-type {\n",
       "        vertical-align: middle;\n",
       "    }\n",
       "\n",
       "    .dataframe tbody tr th {\n",
       "        vertical-align: top;\n",
       "    }\n",
       "\n",
       "    .dataframe thead th {\n",
       "        text-align: right;\n",
       "    }\n",
       "</style>\n",
       "<table border=\"1\" class=\"dataframe\">\n",
       "  <thead>\n",
       "    <tr style=\"text-align: right;\">\n",
       "      <th></th>\n",
       "      <th>ride_id</th>\n",
       "      <th>rider_id</th>\n",
       "      <th>driver_id</th>\n",
       "      <th>ride_type</th>\n",
       "      <th>upfront_fare</th>\n",
       "      <th>rider_paid_amount</th>\n",
       "      <th>eta_to_rider_pre_match</th>\n",
       "      <th>eta_to_rider_post_match</th>\n",
       "      <th>cancellation_flag</th>\n",
       "      <th>rider_request_number</th>\n",
       "      <th>variant</th>\n",
       "      <th>cancel_penalty</th>\n",
       "      <th>requested_day_of_year</th>\n",
       "      <th>requested_on_day</th>\n",
       "      <th>requested_at_time</th>\n",
       "      <th>requested_at_hour</th>\n",
       "      <th>accepted_day_of_year</th>\n",
       "      <th>accepted_on_day</th>\n",
       "      <th>accepted_at_time</th>\n",
       "      <th>accepted_at_hour</th>\n",
       "    </tr>\n",
       "  </thead>\n",
       "  <tbody>\n",
       "    <tr>\n",
       "      <th>0</th>\n",
       "      <td>KCMXI4HAfLCjgHFR2qA1Lg==</td>\n",
       "      <td>AKTYnqStIa+/suWRUAQ60g==</td>\n",
       "      <td>c5U+DL4S+9Kd8xs0jW3ADg==</td>\n",
       "      <td>standard</td>\n",
       "      <td>12.13</td>\n",
       "      <td>17.40</td>\n",
       "      <td>60.0</td>\n",
       "      <td>21.0</td>\n",
       "      <td>0</td>\n",
       "      <td>1</td>\n",
       "      <td>treatment1</td>\n",
       "      <td>3.0</td>\n",
       "      <td>124</td>\n",
       "      <td>5</td>\n",
       "      <td>14:08:33</td>\n",
       "      <td>14</td>\n",
       "      <td>124.0</td>\n",
       "      <td>5.0</td>\n",
       "      <td>14:08:43.775000</td>\n",
       "      <td>14.0</td>\n",
       "    </tr>\n",
       "    <tr>\n",
       "      <th>1</th>\n",
       "      <td>ERylrc+OvEb4gm84MxYmWQ==</td>\n",
       "      <td>ARxb2lRoxbrEgQgDEJIr7Q==</td>\n",
       "      <td>NaN</td>\n",
       "      <td>standard</td>\n",
       "      <td>77.76</td>\n",
       "      <td>1.00</td>\n",
       "      <td>60.0</td>\n",
       "      <td>NaN</td>\n",
       "      <td>1</td>\n",
       "      <td>1</td>\n",
       "      <td>treatment2</td>\n",
       "      <td>1.0</td>\n",
       "      <td>123</td>\n",
       "      <td>4</td>\n",
       "      <td>15:26:37</td>\n",
       "      <td>15</td>\n",
       "      <td>NaN</td>\n",
       "      <td>NaN</td>\n",
       "      <td>NaT</td>\n",
       "      <td>NaN</td>\n",
       "    </tr>\n",
       "    <tr>\n",
       "      <th>2</th>\n",
       "      <td>FKVvDcTRe0O1TDpg6uzLgQ==</td>\n",
       "      <td>ARxb2lRoxbrEgQgDEJIr7Q==</td>\n",
       "      <td>HBzAE1FuAnArUgou7Qetow==</td>\n",
       "      <td>standard</td>\n",
       "      <td>7.82</td>\n",
       "      <td>8.17</td>\n",
       "      <td>360.0</td>\n",
       "      <td>541.0</td>\n",
       "      <td>0</td>\n",
       "      <td>2</td>\n",
       "      <td>treatment2</td>\n",
       "      <td>1.0</td>\n",
       "      <td>130</td>\n",
       "      <td>4</td>\n",
       "      <td>19:26:29</td>\n",
       "      <td>19</td>\n",
       "      <td>130.0</td>\n",
       "      <td>4.0</td>\n",
       "      <td>19:27:00.632000</td>\n",
       "      <td>19.0</td>\n",
       "    </tr>\n",
       "    <tr>\n",
       "      <th>3</th>\n",
       "      <td>ELtwBfng4uSyXpBseav1Bg==</td>\n",
       "      <td>AeWaFFe6cKFmfTEnEr6QBQ==</td>\n",
       "      <td>MX3XhXFZAjKpEDIRm5QoMg==</td>\n",
       "      <td>standard</td>\n",
       "      <td>14.76</td>\n",
       "      <td>14.82</td>\n",
       "      <td>60.0</td>\n",
       "      <td>126.0</td>\n",
       "      <td>0</td>\n",
       "      <td>1</td>\n",
       "      <td>treatment2</td>\n",
       "      <td>1.0</td>\n",
       "      <td>130</td>\n",
       "      <td>4</td>\n",
       "      <td>23:39:07</td>\n",
       "      <td>23</td>\n",
       "      <td>130.0</td>\n",
       "      <td>4.0</td>\n",
       "      <td>23:39:32.725000</td>\n",
       "      <td>23.0</td>\n",
       "    </tr>\n",
       "    <tr>\n",
       "      <th>4</th>\n",
       "      <td>OmCaoDxSXwN3nJzg8Jwamw==</td>\n",
       "      <td>Au8G9PfP3KN3SUnTPO+mMQ==</td>\n",
       "      <td>lqj+gQA7gRITBlHwTCM8Rg==</td>\n",
       "      <td>standard</td>\n",
       "      <td>18.05</td>\n",
       "      <td>17.78</td>\n",
       "      <td>360.0</td>\n",
       "      <td>587.0</td>\n",
       "      <td>0</td>\n",
       "      <td>1</td>\n",
       "      <td>treatment2</td>\n",
       "      <td>1.0</td>\n",
       "      <td>128</td>\n",
       "      <td>2</td>\n",
       "      <td>13:52:08</td>\n",
       "      <td>13</td>\n",
       "      <td>128.0</td>\n",
       "      <td>2.0</td>\n",
       "      <td>13:53:24.871000</td>\n",
       "      <td>13.0</td>\n",
       "    </tr>\n",
       "  </tbody>\n",
       "</table>\n",
       "</div>"
      ],
      "text/plain": [
       "                    ride_id                  rider_id  \\\n",
       "0  KCMXI4HAfLCjgHFR2qA1Lg==  AKTYnqStIa+/suWRUAQ60g==   \n",
       "1  ERylrc+OvEb4gm84MxYmWQ==  ARxb2lRoxbrEgQgDEJIr7Q==   \n",
       "2  FKVvDcTRe0O1TDpg6uzLgQ==  ARxb2lRoxbrEgQgDEJIr7Q==   \n",
       "3  ELtwBfng4uSyXpBseav1Bg==  AeWaFFe6cKFmfTEnEr6QBQ==   \n",
       "4  OmCaoDxSXwN3nJzg8Jwamw==  Au8G9PfP3KN3SUnTPO+mMQ==   \n",
       "\n",
       "                  driver_id ride_type  upfront_fare  rider_paid_amount  \\\n",
       "0  c5U+DL4S+9Kd8xs0jW3ADg==  standard         12.13              17.40   \n",
       "1                       NaN  standard         77.76               1.00   \n",
       "2  HBzAE1FuAnArUgou7Qetow==  standard          7.82               8.17   \n",
       "3  MX3XhXFZAjKpEDIRm5QoMg==  standard         14.76              14.82   \n",
       "4  lqj+gQA7gRITBlHwTCM8Rg==  standard         18.05              17.78   \n",
       "\n",
       "   eta_to_rider_pre_match  eta_to_rider_post_match  cancellation_flag  \\\n",
       "0                    60.0                     21.0                  0   \n",
       "1                    60.0                      NaN                  1   \n",
       "2                   360.0                    541.0                  0   \n",
       "3                    60.0                    126.0                  0   \n",
       "4                   360.0                    587.0                  0   \n",
       "\n",
       "   rider_request_number     variant  cancel_penalty  requested_day_of_year  \\\n",
       "0                     1  treatment1             3.0                    124   \n",
       "1                     1  treatment2             1.0                    123   \n",
       "2                     2  treatment2             1.0                    130   \n",
       "3                     1  treatment2             1.0                    130   \n",
       "4                     1  treatment2             1.0                    128   \n",
       "\n",
       "   requested_on_day requested_at_time  requested_at_hour  \\\n",
       "0                 5          14:08:33                 14   \n",
       "1                 4          15:26:37                 15   \n",
       "2                 4          19:26:29                 19   \n",
       "3                 4          23:39:07                 23   \n",
       "4                 2          13:52:08                 13   \n",
       "\n",
       "   accepted_day_of_year  accepted_on_day accepted_at_time  accepted_at_hour  \n",
       "0                 124.0              5.0  14:08:43.775000              14.0  \n",
       "1                   NaN              NaN              NaT               NaN  \n",
       "2                 130.0              4.0  19:27:00.632000              19.0  \n",
       "3                 130.0              4.0  23:39:32.725000              23.0  \n",
       "4                 128.0              2.0  13:53:24.871000              13.0  "
      ]
     },
     "execution_count": 23,
     "metadata": {},
     "output_type": "execute_result"
    }
   ],
   "source": [
    "ride_data.head()"
   ]
  },
  {
   "cell_type": "code",
   "execution_count": 24,
   "metadata": {},
   "outputs": [
    {
     "name": "stdout",
     "output_type": "stream",
     "text": [
      "<class 'pandas.core.frame.DataFrame'>\n",
      "Int64Index: 1402312 entries, 0 to 1402311\n",
      "Data columns (total 20 columns):\n",
      " #   Column                   Non-Null Count    Dtype  \n",
      "---  ------                   --------------    -----  \n",
      " 0   ride_id                  1402312 non-null  object \n",
      " 1   rider_id                 1402312 non-null  object \n",
      " 2   driver_id                1367819 non-null  object \n",
      " 3   ride_type                1402312 non-null  object \n",
      " 4   upfront_fare             1397335 non-null  float64\n",
      " 5   rider_paid_amount        1402312 non-null  float64\n",
      " 6   eta_to_rider_pre_match   1334909 non-null  float64\n",
      " 7   eta_to_rider_post_match  1367790 non-null  float64\n",
      " 8   cancellation_flag        1402312 non-null  int64  \n",
      " 9   rider_request_number     1402312 non-null  int64  \n",
      " 10  variant                  1402312 non-null  object \n",
      " 11  cancel_penalty           1402312 non-null  float64\n",
      " 12  requested_day_of_year    1402312 non-null  int64  \n",
      " 13  requested_on_day         1402312 non-null  int64  \n",
      " 14  requested_at_time        1402312 non-null  object \n",
      " 15  requested_at_hour        1402312 non-null  int64  \n",
      " 16  accepted_day_of_year     1367790 non-null  float64\n",
      " 17  accepted_on_day          1367790 non-null  float64\n",
      " 18  accepted_at_time         1367790 non-null  object \n",
      " 19  accepted_at_hour         1367790 non-null  float64\n",
      "dtypes: float64(8), int64(5), object(7)\n",
      "memory usage: 224.7+ MB\n"
     ]
    }
   ],
   "source": [
    "ride_data.info()"
   ]
  },
  {
   "cell_type": "markdown",
   "metadata": {},
   "source": [
    "\n",
    "#### Let's look at some plots and grouped tables with aggregated values, and try to understand relationship between different variables\n",
    "\n"
   ]
  },
  {
   "cell_type": "code",
   "execution_count": 25,
   "metadata": {},
   "outputs": [
    {
     "data": {
      "image/png": "[encoded data removed]",
      "text/plain": [
       "<Figure size 720x576 with 1 Axes>"
      ]
     },
     "metadata": {
      "needs_background": "light"
     },
     "output_type": "display_data"
    },
    {
     "name": "stdout",
     "output_type": "stream",
     "text": [
      "0    1195262\n",
      "1     207050\n",
      "Name: cancellation_flag, dtype: int64\n"
     ]
    }
   ],
   "source": [
    "f, ax = plt.subplots(figsize=(10, 8))\n",
    "\n",
    "sb.set(style=\"darkgrid\")\n",
    "sb.countplot(x=\"cancellation_flag\", data=ride_data, ax=ax)\n",
    "ax.set_ylabel('Total Cancellation Count', size = 14)\n",
    "ax.set_xlabel('Cancellation Flag', size = 14)\n",
    "ax.set_title('Completed/Cancelled Rides Count', size = 20)\n",
    "plt.legend(labels=[\"Ride Completed\", \"Ride Cancelled\"])\n",
    "plt.show()\n",
    "\n",
    "print(ride_data[\"cancellation_flag\"].value_counts())\n",
    "\n"
   ]
  },
  {
   "cell_type": "markdown",
   "metadata": {},
   "source": [
    "\n",
    "#### From the above output, we know,\n",
    "\n",
    "Of the **total 1402312 rides**, there have been **207050 ride cancellation between** the period of **April 14, 2019 and May 26, 2019.**"
   ]
  },
  {
   "cell_type": "code",
   "execution_count": 26,
   "metadata": {},
   "outputs": [
    {
     "name": "stdout",
     "output_type": "stream",
     "text": [
      "cancellation_flag\n",
      "0    17983989\n",
      "1      536576\n",
      "Name: rider_paid_amount, dtype: int64\n"
     ]
    }
   ],
   "source": [
    "print(ride_data.groupby(\"cancellation_flag\")[\"rider_paid_amount\"].sum().astype(np.int64))"
   ]
  },
  {
   "cell_type": "markdown",
   "metadata": {},
   "source": [
    "\n",
    "\n",
    "#### From the above output, we know,\n",
    "\n",
    "- Total Revenue from cancelled rides (penalty): **USD 5,36,576**\n",
    "\n",
    "\n",
    "- Total Revenue from completed rides: **USD 1,79,83,989**\n",
    "\n",
    "\n",
    "- Of the total revenue from April 14, 2019 to May 26, 2019, **cancelled rides form 2.98 % of the revenue.**\n",
    "\n"
   ]
  },
  {
   "cell_type": "code",
   "execution_count": 27,
   "metadata": {
    "scrolled": true
   },
   "outputs": [
    {
     "name": "stdout",
     "output_type": "stream",
     "text": [
      "ride_type  cancellation_flag\n",
      "shared     0                    395843\n",
      "           1                     83355\n",
      "standard   0                    799419\n",
      "           1                    123695\n",
      "Name: ride_id, dtype: int64\n"
     ]
    }
   ],
   "source": [
    "print(ride_data.groupby([\"ride_type\", \"cancellation_flag\"])[\"ride_id\"].count())"
   ]
  },
  {
   "cell_type": "markdown",
   "metadata": {},
   "source": [
    "\n",
    "#### From the above output, we know,\n",
    "\n",
    "No. of shared rides cancelled    :   83355\n",
    "\n",
    "No. of standard rides cancelled  :   123695\n"
   ]
  },
  {
   "cell_type": "code",
   "execution_count": 28,
   "metadata": {},
   "outputs": [
    {
     "name": "stdout",
     "output_type": "stream",
     "text": [
      "ride_type  cancellation_flag\n",
      "shared     0                     3829143.02\n",
      "           1                      221365.00\n",
      "standard   0                    14154846.75\n",
      "           1                      315211.00\n",
      "Name: rider_paid_amount, dtype: float64\n"
     ]
    }
   ],
   "source": [
    "print(ride_data.groupby([\"ride_type\", \"cancellation_flag\"]).sum()[\"rider_paid_amount\"])"
   ]
  },
  {
   "cell_type": "markdown",
   "metadata": {},
   "source": [
    "#### From the above output, we know,\n",
    "\n",
    "For SHARED rides:\n",
    "\n",
    "\n",
    "- Total Revenue from CANCELLED rides  : **USD 2,21,365.00**\n",
    "\n",
    "\n",
    "\n",
    "- Total Revenue from COMPLETED rides  : **USD 3,829,143.02**\n",
    "\n",
    "\n",
    "\n",
    "For STANDARD rides:\n",
    "\n",
    "\n",
    "- Total Revenue from CANCELLED rides: **USD 3,15,211.00**\n",
    "\n",
    "\n",
    "- Total Revenue from COMPLETED rides: **USD 14,154,846.75**\n",
    "\n"
   ]
  },
  {
   "cell_type": "code",
   "execution_count": 29,
   "metadata": {},
   "outputs": [
    {
     "data": {
      "text/plain": [
       "ride_id                     object\n",
       "rider_id                    object\n",
       "driver_id                   object\n",
       "ride_type                   object\n",
       "upfront_fare               float64\n",
       "rider_paid_amount          float64\n",
       "eta_to_rider_pre_match     float64\n",
       "eta_to_rider_post_match    float64\n",
       "cancellation_flag            int64\n",
       "rider_request_number         int64\n",
       "variant                     object\n",
       "cancel_penalty             float64\n",
       "requested_day_of_year        int64\n",
       "requested_on_day             int64\n",
       "requested_at_time           object\n",
       "requested_at_hour            int64\n",
       "accepted_day_of_year       float64\n",
       "accepted_on_day            float64\n",
       "accepted_at_time            object\n",
       "accepted_at_hour           float64\n",
       "dtype: object"
      ]
     },
     "execution_count": 29,
     "metadata": {},
     "output_type": "execute_result"
    }
   ],
   "source": [
    "ride_data.dtypes"
   ]
  },
  {
   "cell_type": "code",
   "execution_count": 30,
   "metadata": {},
   "outputs": [
    {
     "data": {
      "image/png": "[encoded data removed]",
      "text/plain": [
       "<Figure size 1296x576 with 1 Axes>"
      ]
     },
     "metadata": {},
     "output_type": "display_data"
    }
   ],
   "source": [
    "f, ax = plt.subplots(figsize=(18, 8))\n",
    "hour_summary = pd.DataFrame(ride_data.groupby(['requested_on_day', 'requested_at_hour'])\n",
    "                            ['upfront_fare'].mean())\n",
    "hour_summary.reset_index(inplace=True)\n",
    "hour_summary['unit'] = 1\n",
    "ax = sb.tsplot(data = hour_summary, time = 'requested_at_hour', unit = 'unit', \n",
    "                condition = 'requested_on_day', value = 'upfront_fare')\n",
    "sb.set_context('poster')\n",
    "sb.set(style='white')\n",
    "sb.despine(bottom=False)\n",
    "\n",
    "ax.set_title('Distribution of mean upfront fare shown to the rider per hour of the day\\n', size = 20)\n",
    "ax.set_ylabel('Mean upfront fare', size = 14)\n",
    "ax.set_xlabel('Hour of the day', size = 14)\n",
    "ax.set(xticks=np.arange(0,24))\n",
    "\n",
    "plt.show()\n",
    "\n"
   ]
  },
  {
   "cell_type": "markdown",
   "metadata": {},
   "source": [
    "#### From the above graph, it is clear that,\n",
    "\n",
    "\n",
    "Upfront fare shown to the rider is more in the early hours of the day. This makes sense as less riders are present in that timeframe, to meet the supply and demand equality, upfront fare during the early hours of the day is generally more.\n",
    "\n"
   ]
  },
  {
   "cell_type": "code",
   "execution_count": 31,
   "metadata": {},
   "outputs": [
    {
     "data": {
      "image/png": "[encoded data removed]",
      "text/plain": [
       "<Figure size 1296x576 with 1 Axes>"
      ]
     },
     "metadata": {},
     "output_type": "display_data"
    }
   ],
   "source": [
    "f, ax = plt.subplots(figsize=(18, 8))\n",
    "hour_summary = pd.DataFrame(ride_data.groupby(['requested_on_day', 'requested_at_hour'])\n",
    "                            ['rider_paid_amount'].sum())\n",
    "hour_summary.reset_index(inplace=True)\n",
    "hour_summary['unit'] = 1\n",
    "ax = sb.tsplot(data = hour_summary, time = 'requested_at_hour', unit = 'unit', \n",
    "                condition = 'requested_on_day', value = 'rider_paid_amount')\n",
    "sb.set_context('poster')\n",
    "sb.set(style='white')\n",
    "sb.despine(bottom=False)\n",
    "\n",
    "ax.set_title('Distribution of total rider amount paid per hour of the day\\n', size = 20)\n",
    "ax.set_ylabel('Amount paid by rider (in USD)', size = 14)\n",
    "ax.set_xlabel('Hour of the day', size = 14)\n",
    "ax.set(xticks=np.arange(0,24))\n",
    "plt.show()\n",
    "\n"
   ]
  },
  {
   "cell_type": "markdown",
   "metadata": {},
   "source": [
    "#### As suspected, and confirmed from the above output, we can clearly see that,\n",
    "\n",
    "Revenue generation from both completed and cancelled rides is more during the peak hours in morning and in the evening. You can see the red and green line that represents the weekend, where the revenue generated is low during the morning but then tends to get back on.\n"
   ]
  },
  {
   "cell_type": "code",
   "execution_count": 32,
   "metadata": {},
   "outputs": [
    {
     "data": {
      "image/png": "[encoded data removed]",
      "text/plain": [
       "<Figure size 1296x576 with 1 Axes>"
      ]
     },
     "metadata": {},
     "output_type": "display_data"
    }
   ],
   "source": [
    "f, ax = plt.subplots(figsize=(18, 8))\n",
    "ax = sb.distplot(ride_data['eta_to_rider_pre_match'], hist=True, kde=False, bins=10)\n",
    "sb.set_context('poster')\n",
    "sb.set(style='white')\n",
    "sb.despine(bottom=False)\n",
    "ax.set_title('Distribution of ETA to rider pre-match\\n', size = 20)\n",
    "ax.set_ylabel('Count', size = 17)\n",
    "ax.set_xlabel('ETA to rider pre-match (sec)', size = 17)\n",
    "ax.axvline(ride_data['eta_to_rider_pre_match'].mean(), color = 'green', linewidth = 1)\n",
    "ax.axvline(ride_data['eta_to_rider_pre_match'].median(), color = 'red', linewidth = 1)\n",
    "ax.legend(['Mean', 'Median'])\n",
    "plt.show()"
   ]
  },
  {
   "cell_type": "code",
   "execution_count": 33,
   "metadata": {},
   "outputs": [
    {
     "data": {
      "image/png": "[encoded data removed]",
      "text/plain": [
       "<Figure size 1296x576 with 1 Axes>"
      ]
     },
     "metadata": {},
     "output_type": "display_data"
    },
    {
     "name": "stdout",
     "output_type": "stream",
     "text": [
      "From the above graph, we can see, the maximum number of rides got cancelled on following day of year:\n",
      "\n"
     ]
    },
    {
     "data": {
      "text/html": [
       "<div>\n",
       "<style scoped>\n",
       "    .dataframe tbody tr th:only-of-type {\n",
       "        vertical-align: middle;\n",
       "    }\n",
       "\n",
       "    .dataframe tbody tr th {\n",
       "        vertical-align: top;\n",
       "    }\n",
       "\n",
       "    .dataframe thead th {\n",
       "        text-align: right;\n",
       "    }\n",
       "</style>\n",
       "<table border=\"1\" class=\"dataframe\">\n",
       "  <thead>\n",
       "    <tr style=\"text-align: right;\">\n",
       "      <th></th>\n",
       "      <th>cancellation_flag</th>\n",
       "    </tr>\n",
       "    <tr>\n",
       "      <th>requested_day_of_year</th>\n",
       "      <th></th>\n",
       "    </tr>\n",
       "  </thead>\n",
       "  <tbody>\n",
       "    <tr>\n",
       "      <th>123</th>\n",
       "      <td>6548</td>\n",
       "    </tr>\n",
       "  </tbody>\n",
       "</table>\n",
       "</div>"
      ],
      "text/plain": [
       "                       cancellation_flag\n",
       "requested_day_of_year                   \n",
       "123                                 6548"
      ]
     },
     "execution_count": 33,
     "metadata": {},
     "output_type": "execute_result"
    }
   ],
   "source": [
    "f, ax = plt.subplots(figsize=(18, 8))\n",
    "ride_data.groupby([\"requested_day_of_year\"]).sum()[\"cancellation_flag\"].plot(ax=ax, linewidth=5)\n",
    "plt.xlabel(\"Days of year- Ride accepted\", size = 17)\n",
    "ax.set_title('Distribution of number of rides cancelled after the request per day of the year\\n', size = 20)\n",
    "plt.ylabel(\"Ride Cancelled\", size = 17)\n",
    "plt.show()\n",
    "\n",
    "df_dayofyear = pd.DataFrame(ride_data.groupby([\"requested_day_of_year\"]).sum()[\"cancellation_flag\"])\n",
    "print(\"From the above graph, we can see, the maximum number of rides got cancelled on following day of year:\\n\",)\n",
    "df_dayofyear[df_dayofyear[\"cancellation_flag\"]==df_dayofyear[\"cancellation_flag\"].max()]\n",
    "\n"
   ]
  },
  {
   "cell_type": "code",
   "execution_count": 34,
   "metadata": {},
   "outputs": [
    {
     "data": {
      "image/png": "[encoded data removed]",
      "text/plain": [
       "<Figure size 1296x576 with 1 Axes>"
      ]
     },
     "metadata": {},
     "output_type": "display_data"
    },
    {
     "name": "stdout",
     "output_type": "stream",
     "text": [
      "From the above graph, we can see, the maximum number of rides got cancelled on following day of week:\n",
      "\n"
     ]
    },
    {
     "data": {
      "text/html": [
       "<div>\n",
       "<style scoped>\n",
       "    .dataframe tbody tr th:only-of-type {\n",
       "        vertical-align: middle;\n",
       "    }\n",
       "\n",
       "    .dataframe tbody tr th {\n",
       "        vertical-align: top;\n",
       "    }\n",
       "\n",
       "    .dataframe thead th {\n",
       "        text-align: right;\n",
       "    }\n",
       "</style>\n",
       "<table border=\"1\" class=\"dataframe\">\n",
       "  <thead>\n",
       "    <tr style=\"text-align: right;\">\n",
       "      <th></th>\n",
       "      <th>cancellation_flag</th>\n",
       "    </tr>\n",
       "    <tr>\n",
       "      <th>requested_on_day</th>\n",
       "      <th></th>\n",
       "    </tr>\n",
       "  </thead>\n",
       "  <tbody>\n",
       "    <tr>\n",
       "      <th>4</th>\n",
       "      <td>35869</td>\n",
       "    </tr>\n",
       "  </tbody>\n",
       "</table>\n",
       "</div>"
      ],
      "text/plain": [
       "                  cancellation_flag\n",
       "requested_on_day                   \n",
       "4                             35869"
      ]
     },
     "execution_count": 34,
     "metadata": {},
     "output_type": "execute_result"
    }
   ],
   "source": [
    "f, ax = plt.subplots(figsize=(18, 8))\n",
    "ride_data.groupby(\"requested_on_day\").sum()[\"cancellation_flag\"].plot.bar(ax=ax)\n",
    "plt.xlabel(\"Days of week- Ride requested\", size =17)\n",
    "plt.ylabel(\"Cancellation Count\", size =17)\n",
    "ax.set_title('Distribution of number of rides cancelled after the request per day of the week\\n', size = 20)\n",
    "plt.show()\n",
    "\n",
    "\n",
    "df_dayofweek = pd.DataFrame(ride_data.groupby(\"requested_on_day\").sum()[\"cancellation_flag\"])\n",
    "print(\"From the above graph, we can see, the maximum number of rides got cancelled on following day of week:\\n\",)\n",
    "df_dayofweek[df_dayofweek[\"cancellation_flag\"]==df_dayofweek[\"cancellation_flag\"].max()]\n",
    "\n"
   ]
  },
  {
   "cell_type": "code",
   "execution_count": 35,
   "metadata": {},
   "outputs": [
    {
     "data": {
      "image/png": "[encoded data removed]",
      "text/plain": [
       "<Figure size 1296x576 with 1 Axes>"
      ]
     },
     "metadata": {},
     "output_type": "display_data"
    }
   ],
   "source": [
    "f, ax = plt.subplots(figsize=(18, 8))\n",
    "ride_data.groupby(\"requested_at_hour\").sum()[\"cancellation_flag\"].plot.bar(ax=ax)\n",
    "plt.xlabel(\"Hour of day- Ride requested\", size =17)\n",
    "plt.ylabel(\"Cancellation Count\", size =17)\n",
    "ax.set_title('Distribution of number of rides cancelled after the request per hour of the day\\n', size = 20)\n",
    "\n",
    "plt.show()\n",
    "\n",
    "df_hourofday = pd.DataFrame(ride_data.groupby(\"requested_at_hour\").sum()[\"cancellation_flag\"])\n"
   ]
  },
  {
   "cell_type": "markdown",
   "metadata": {},
   "source": [
    "#### The above outputs helps us understand the following:\n",
    "\n",
    "- Friday is the day when majority of ride cancellation occurs. This is followed by Thursday.\n",
    "\n",
    "\n",
    "\n",
    "- 123rd day of the year experienced the maximum ride cancellation. Also, the data is only for the limited time frame, from April 14, 2019 to May 26, 2019\n",
    "\n",
    "\n",
    "\n",
    "- We also understood that from 7th hour to 9th hour, we have highest cancellation. This cancellation rate drops down by 39.39% from 9th hour. It again experiences a 34.20% increase from 14th to 15th hour, and then keeps increasing till 22th hour. This makes sense, as during the peak hours, people tend to go to work and there will be a traffic surge during these hours. Also, during the later half of the day, people tend to come back from work, or go to dinner etc.\n",
    "\n"
   ]
  },
  {
   "cell_type": "markdown",
   "metadata": {},
   "source": [
    "#### Let's look at the revenue distribution during the days of week and hours of day from cancelled and completed rides"
   ]
  },
  {
   "cell_type": "code",
   "execution_count": 36,
   "metadata": {},
   "outputs": [
    {
     "name": "stdout",
     "output_type": "stream",
     "text": [
      "requested_on_day  cancellation_flag\n",
      "0                 0                    2292604.07\n",
      "                  1                      74617.00\n",
      "1                 0                    2443434.60\n",
      "                  1                      69785.00\n",
      "2                 0                    2578520.63\n",
      "                  1                      77181.00\n",
      "3                 0                    2808045.67\n",
      "                  1                      86595.00\n",
      "4                 0                    3037501.67\n",
      "                  1                      93279.00\n",
      "5                 0                    2617349.75\n",
      "                  1                      74245.00\n",
      "6                 0                    2206533.38\n",
      "                  1                      60874.00\n",
      "Name: rider_paid_amount, dtype: float64\n"
     ]
    }
   ],
   "source": [
    "print(ride_data.groupby([\"requested_on_day\", \"cancellation_flag\"]).sum()[\"rider_paid_amount\"])"
   ]
  },
  {
   "cell_type": "markdown",
   "metadata": {},
   "source": [
    "#### From the above output, it is clear that,\n",
    "\n",
    "- It is clear that, **Friday** experiences the highest revenue generation from both completed and cancelled rides. This is followed by Thursday.\n"
   ]
  },
  {
   "cell_type": "markdown",
   "metadata": {},
   "source": [
    "#### Now, let's move ahead and have a closer look at the experiment_data and cancelled rides"
   ]
  },
  {
   "cell_type": "code",
   "execution_count": 37,
   "metadata": {},
   "outputs": [
    {
     "name": "stdout",
     "output_type": "stream",
     "text": [
      "variant\n",
      "control       460976\n",
      "treatment1    470449\n",
      "treatment2    470887\n",
      "Name: ride_id, dtype: int64\n"
     ]
    }
   ],
   "source": [
    "print(ride_data.groupby(\"variant\").count()[\"ride_id\"])"
   ]
  },
  {
   "cell_type": "markdown",
   "metadata": {},
   "source": [
    "#### From the above output, \n",
    "We get to know the count distribution of all the rides in ride_data, in control, treatment-1, and treatment-2."
   ]
  },
  {
   "cell_type": "code",
   "execution_count": 38,
   "metadata": {},
   "outputs": [
    {
     "name": "stdout",
     "output_type": "stream",
     "text": [
      "variant\n",
      "control       $ 2304880.0\n",
      "treatment1    $ 1411347.0\n",
      "treatment2     $ 470887.0\n",
      "Name: cancel_penalty, dtype: object\n"
     ]
    }
   ],
   "source": [
    "print(\"$ \"+ride_data.groupby(\"variant\")[\"cancel_penalty\"].sum().astype(str))\n",
    "\n",
    "df_exp = pd.DataFrame(ride_data.groupby([\"variant\",\"cancel_penalty\"])[\"rider_paid_amount\"].sum())\n"
   ]
  },
  {
   "cell_type": "markdown",
   "metadata": {},
   "source": [
    "#### From the above output, \n",
    "We get to know the revenue distribution from control, treatment-1, and treatment-2 group."
   ]
  },
  {
   "cell_type": "code",
   "execution_count": 39,
   "metadata": {},
   "outputs": [
    {
     "name": "stdout",
     "output_type": "stream",
     "text": [
      "variant\n",
      "control       5.0\n",
      "treatment1    3.0\n",
      "treatment2    1.0\n",
      "Name: cancel_penalty, dtype: float64\n"
     ]
    }
   ],
   "source": [
    "print(ride_data.groupby(\"variant\").mean()[\"cancel_penalty\"])"
   ]
  },
  {
   "cell_type": "markdown",
   "metadata": {},
   "source": [
    "#### From the above output, we understand that,\n",
    "\n",
    "- Control group had cancel_penalty of 5 USD\n",
    "\n",
    "- Treatment1 group had cancel_penalty of 3 USD\n",
    "\n",
    "- Treatment2 group had cancel_penalty of 1 USD\n"
   ]
  },
  {
   "cell_type": "markdown",
   "metadata": {},
   "source": [
    "___"
   ]
  },
  {
   "cell_type": "markdown",
   "metadata": {},
   "source": [
    "#### We will use LabelEncoder to encode ride_type variable.\n",
    "\n",
    "In order to model, we need to reformat ride_type variable in numeric format\n",
    "\n",
    "Label Encoding can be achieved using python's sklearn library. It is a very efficient tool for encoding the levels of categorical features in different numeric values. \n",
    "\n",
    "\n",
    "LabelEncoder encode labels with a value from 0 to n-1 where n is the number of distinct labels. If a label is repeated, it assigns the same value as assigned earlier to that label."
   ]
  },
  {
   "cell_type": "code",
   "execution_count": 40,
   "metadata": {},
   "outputs": [],
   "source": [
    "from sklearn.preprocessing import LabelEncoder\n",
    "\n",
    "label_encoder = LabelEncoder()                        # instantiate label encoder\n",
    "ride_type_cat = ride_data[\"ride_type\"]                # Convert our ride_type variable into numeric\n"
   ]
  },
  {
   "cell_type": "markdown",
   "metadata": {},
   "source": [
    "#### We need to encode the ride_type variable, so it gives a binary response"
   ]
  },
  {
   "cell_type": "code",
   "execution_count": 41,
   "metadata": {},
   "outputs": [
    {
     "data": {
      "text/html": [
       "<div>\n",
       "<style scoped>\n",
       "    .dataframe tbody tr th:only-of-type {\n",
       "        vertical-align: middle;\n",
       "    }\n",
       "\n",
       "    .dataframe tbody tr th {\n",
       "        vertical-align: top;\n",
       "    }\n",
       "\n",
       "    .dataframe thead th {\n",
       "        text-align: right;\n",
       "    }\n",
       "</style>\n",
       "<table border=\"1\" class=\"dataframe\">\n",
       "  <thead>\n",
       "    <tr style=\"text-align: right;\">\n",
       "      <th></th>\n",
       "      <th>standard_ridetype</th>\n",
       "    </tr>\n",
       "  </thead>\n",
       "  <tbody>\n",
       "    <tr>\n",
       "      <th>0</th>\n",
       "      <td>1</td>\n",
       "    </tr>\n",
       "    <tr>\n",
       "      <th>1</th>\n",
       "      <td>1</td>\n",
       "    </tr>\n",
       "    <tr>\n",
       "      <th>2</th>\n",
       "      <td>1</td>\n",
       "    </tr>\n",
       "    <tr>\n",
       "      <th>3</th>\n",
       "      <td>1</td>\n",
       "    </tr>\n",
       "    <tr>\n",
       "      <th>4</th>\n",
       "      <td>1</td>\n",
       "    </tr>\n",
       "  </tbody>\n",
       "</table>\n",
       "</div>"
      ],
      "text/plain": [
       "   standard_ridetype\n",
       "0                  1\n",
       "1                  1\n",
       "2                  1\n",
       "3                  1\n",
       "4                  1"
      ]
     },
     "execution_count": 41,
     "metadata": {},
     "output_type": "execute_result"
    }
   ],
   "source": [
    "\n",
    "ridetype_encoded = label_encoder.fit_transform(ride_type_cat)\n",
    "\n",
    "ridetype_DF = pd.DataFrame(ridetype_encoded, columns=['standard_ridetype'])\n",
    "ridetype_DF.head()\n"
   ]
  },
  {
   "cell_type": "code",
   "execution_count": 42,
   "metadata": {},
   "outputs": [],
   "source": [
    "ride_data = pd.concat([ride_data, ridetype_DF], \n",
    "                         axis = 1, verify_integrity = True)"
   ]
  },
  {
   "cell_type": "code",
   "execution_count": 43,
   "metadata": {},
   "outputs": [],
   "source": [
    "ride_data.drop(\"ride_type\", axis = 1, inplace = True)"
   ]
  },
  {
   "cell_type": "code",
   "execution_count": 44,
   "metadata": {},
   "outputs": [
    {
     "data": {
      "text/html": [
       "<div>\n",
       "<style scoped>\n",
       "    .dataframe tbody tr th:only-of-type {\n",
       "        vertical-align: middle;\n",
       "    }\n",
       "\n",
       "    .dataframe tbody tr th {\n",
       "        vertical-align: top;\n",
       "    }\n",
       "\n",
       "    .dataframe thead th {\n",
       "        text-align: right;\n",
       "    }\n",
       "</style>\n",
       "<table border=\"1\" class=\"dataframe\">\n",
       "  <thead>\n",
       "    <tr style=\"text-align: right;\">\n",
       "      <th></th>\n",
       "      <th>ride_id</th>\n",
       "      <th>rider_id</th>\n",
       "      <th>driver_id</th>\n",
       "      <th>upfront_fare</th>\n",
       "      <th>rider_paid_amount</th>\n",
       "      <th>eta_to_rider_pre_match</th>\n",
       "      <th>eta_to_rider_post_match</th>\n",
       "      <th>cancellation_flag</th>\n",
       "      <th>rider_request_number</th>\n",
       "      <th>variant</th>\n",
       "      <th>cancel_penalty</th>\n",
       "      <th>requested_day_of_year</th>\n",
       "      <th>requested_on_day</th>\n",
       "      <th>requested_at_time</th>\n",
       "      <th>requested_at_hour</th>\n",
       "      <th>accepted_day_of_year</th>\n",
       "      <th>accepted_on_day</th>\n",
       "      <th>accepted_at_time</th>\n",
       "      <th>accepted_at_hour</th>\n",
       "      <th>standard_ridetype</th>\n",
       "    </tr>\n",
       "  </thead>\n",
       "  <tbody>\n",
       "    <tr>\n",
       "      <th>0</th>\n",
       "      <td>KCMXI4HAfLCjgHFR2qA1Lg==</td>\n",
       "      <td>AKTYnqStIa+/suWRUAQ60g==</td>\n",
       "      <td>c5U+DL4S+9Kd8xs0jW3ADg==</td>\n",
       "      <td>12.13</td>\n",
       "      <td>17.40</td>\n",
       "      <td>60.0</td>\n",
       "      <td>21.0</td>\n",
       "      <td>0</td>\n",
       "      <td>1</td>\n",
       "      <td>treatment1</td>\n",
       "      <td>3.0</td>\n",
       "      <td>124</td>\n",
       "      <td>5</td>\n",
       "      <td>14:08:33</td>\n",
       "      <td>14</td>\n",
       "      <td>124.0</td>\n",
       "      <td>5.0</td>\n",
       "      <td>14:08:43.775000</td>\n",
       "      <td>14.0</td>\n",
       "      <td>1</td>\n",
       "    </tr>\n",
       "    <tr>\n",
       "      <th>1</th>\n",
       "      <td>ERylrc+OvEb4gm84MxYmWQ==</td>\n",
       "      <td>ARxb2lRoxbrEgQgDEJIr7Q==</td>\n",
       "      <td>NaN</td>\n",
       "      <td>77.76</td>\n",
       "      <td>1.00</td>\n",
       "      <td>60.0</td>\n",
       "      <td>NaN</td>\n",
       "      <td>1</td>\n",
       "      <td>1</td>\n",
       "      <td>treatment2</td>\n",
       "      <td>1.0</td>\n",
       "      <td>123</td>\n",
       "      <td>4</td>\n",
       "      <td>15:26:37</td>\n",
       "      <td>15</td>\n",
       "      <td>NaN</td>\n",
       "      <td>NaN</td>\n",
       "      <td>NaT</td>\n",
       "      <td>NaN</td>\n",
       "      <td>1</td>\n",
       "    </tr>\n",
       "    <tr>\n",
       "      <th>2</th>\n",
       "      <td>FKVvDcTRe0O1TDpg6uzLgQ==</td>\n",
       "      <td>ARxb2lRoxbrEgQgDEJIr7Q==</td>\n",
       "      <td>HBzAE1FuAnArUgou7Qetow==</td>\n",
       "      <td>7.82</td>\n",
       "      <td>8.17</td>\n",
       "      <td>360.0</td>\n",
       "      <td>541.0</td>\n",
       "      <td>0</td>\n",
       "      <td>2</td>\n",
       "      <td>treatment2</td>\n",
       "      <td>1.0</td>\n",
       "      <td>130</td>\n",
       "      <td>4</td>\n",
       "      <td>19:26:29</td>\n",
       "      <td>19</td>\n",
       "      <td>130.0</td>\n",
       "      <td>4.0</td>\n",
       "      <td>19:27:00.632000</td>\n",
       "      <td>19.0</td>\n",
       "      <td>1</td>\n",
       "    </tr>\n",
       "    <tr>\n",
       "      <th>3</th>\n",
       "      <td>ELtwBfng4uSyXpBseav1Bg==</td>\n",
       "      <td>AeWaFFe6cKFmfTEnEr6QBQ==</td>\n",
       "      <td>MX3XhXFZAjKpEDIRm5QoMg==</td>\n",
       "      <td>14.76</td>\n",
       "      <td>14.82</td>\n",
       "      <td>60.0</td>\n",
       "      <td>126.0</td>\n",
       "      <td>0</td>\n",
       "      <td>1</td>\n",
       "      <td>treatment2</td>\n",
       "      <td>1.0</td>\n",
       "      <td>130</td>\n",
       "      <td>4</td>\n",
       "      <td>23:39:07</td>\n",
       "      <td>23</td>\n",
       "      <td>130.0</td>\n",
       "      <td>4.0</td>\n",
       "      <td>23:39:32.725000</td>\n",
       "      <td>23.0</td>\n",
       "      <td>1</td>\n",
       "    </tr>\n",
       "    <tr>\n",
       "      <th>4</th>\n",
       "      <td>OmCaoDxSXwN3nJzg8Jwamw==</td>\n",
       "      <td>Au8G9PfP3KN3SUnTPO+mMQ==</td>\n",
       "      <td>lqj+gQA7gRITBlHwTCM8Rg==</td>\n",
       "      <td>18.05</td>\n",
       "      <td>17.78</td>\n",
       "      <td>360.0</td>\n",
       "      <td>587.0</td>\n",
       "      <td>0</td>\n",
       "      <td>1</td>\n",
       "      <td>treatment2</td>\n",
       "      <td>1.0</td>\n",
       "      <td>128</td>\n",
       "      <td>2</td>\n",
       "      <td>13:52:08</td>\n",
       "      <td>13</td>\n",
       "      <td>128.0</td>\n",
       "      <td>2.0</td>\n",
       "      <td>13:53:24.871000</td>\n",
       "      <td>13.0</td>\n",
       "      <td>1</td>\n",
       "    </tr>\n",
       "  </tbody>\n",
       "</table>\n",
       "</div>"
      ],
      "text/plain": [
       "                    ride_id                  rider_id  \\\n",
       "0  KCMXI4HAfLCjgHFR2qA1Lg==  AKTYnqStIa+/suWRUAQ60g==   \n",
       "1  ERylrc+OvEb4gm84MxYmWQ==  ARxb2lRoxbrEgQgDEJIr7Q==   \n",
       "2  FKVvDcTRe0O1TDpg6uzLgQ==  ARxb2lRoxbrEgQgDEJIr7Q==   \n",
       "3  ELtwBfng4uSyXpBseav1Bg==  AeWaFFe6cKFmfTEnEr6QBQ==   \n",
       "4  OmCaoDxSXwN3nJzg8Jwamw==  Au8G9PfP3KN3SUnTPO+mMQ==   \n",
       "\n",
       "                  driver_id  upfront_fare  rider_paid_amount  \\\n",
       "0  c5U+DL4S+9Kd8xs0jW3ADg==         12.13              17.40   \n",
       "1                       NaN         77.76               1.00   \n",
       "2  HBzAE1FuAnArUgou7Qetow==          7.82               8.17   \n",
       "3  MX3XhXFZAjKpEDIRm5QoMg==         14.76              14.82   \n",
       "4  lqj+gQA7gRITBlHwTCM8Rg==         18.05              17.78   \n",
       "\n",
       "   eta_to_rider_pre_match  eta_to_rider_post_match  cancellation_flag  \\\n",
       "0                    60.0                     21.0                  0   \n",
       "1                    60.0                      NaN                  1   \n",
       "2                   360.0                    541.0                  0   \n",
       "3                    60.0                    126.0                  0   \n",
       "4                   360.0                    587.0                  0   \n",
       "\n",
       "   rider_request_number     variant  cancel_penalty  requested_day_of_year  \\\n",
       "0                     1  treatment1             3.0                    124   \n",
       "1                     1  treatment2             1.0                    123   \n",
       "2                     2  treatment2             1.0                    130   \n",
       "3                     1  treatment2             1.0                    130   \n",
       "4                     1  treatment2             1.0                    128   \n",
       "\n",
       "   requested_on_day requested_at_time  requested_at_hour  \\\n",
       "0                 5          14:08:33                 14   \n",
       "1                 4          15:26:37                 15   \n",
       "2                 4          19:26:29                 19   \n",
       "3                 4          23:39:07                 23   \n",
       "4                 2          13:52:08                 13   \n",
       "\n",
       "   accepted_day_of_year  accepted_on_day accepted_at_time  accepted_at_hour  \\\n",
       "0                 124.0              5.0  14:08:43.775000              14.0   \n",
       "1                   NaN              NaN              NaT               NaN   \n",
       "2                 130.0              4.0  19:27:00.632000              19.0   \n",
       "3                 130.0              4.0  23:39:32.725000              23.0   \n",
       "4                 128.0              2.0  13:53:24.871000              13.0   \n",
       "\n",
       "   standard_ridetype  \n",
       "0                  1  \n",
       "1                  1  \n",
       "2                  1  \n",
       "3                  1  \n",
       "4                  1  "
      ]
     },
     "execution_count": 44,
     "metadata": {},
     "output_type": "execute_result"
    }
   ],
   "source": [
    "ride_data.head()"
   ]
  },
  {
   "cell_type": "markdown",
   "metadata": {},
   "source": [
    "#### After the encoding, we need to check what does 1 represents and what does 0 does.\n",
    "\n",
    "\n",
    "#### In our case,\n",
    "\n",
    "\n",
    "- 1  equals Standard ride_type\n",
    "\n",
    "\n",
    "- 0  equals Shared ride_type\n",
    "\n",
    "\n",
    "#### We have named the column \"standard_ridetype\" for easy understanding.\n",
    "\n",
    "\n",
    "- We then concatenated the two dataframes.\n",
    "\n",
    "\n",
    "- Once we have a binary variable for our ride_type where 1 represents standard and 0 represents shared, we no longer require ride_type variable, so we will drop that column.\n",
    "___"
   ]
  },
  {
   "cell_type": "markdown",
   "metadata": {},
   "source": [
    "#### We don't need driver_id, since we have already mapped the varient category for different rides and driver_id won't have any effect on the cancellation policy."
   ]
  },
  {
   "cell_type": "code",
   "execution_count": 45,
   "metadata": {},
   "outputs": [],
   "source": [
    "ride_data.drop(\"driver_id\", axis = 1, inplace = True)"
   ]
  },
  {
   "cell_type": "markdown",
   "metadata": {},
   "source": [
    "#### Before we start modeling, we need to check if we have any missing values in feature set and if present, we need to handle it."
   ]
  },
  {
   "cell_type": "code",
   "execution_count": 46,
   "metadata": {},
   "outputs": [
    {
     "data": {
      "text/plain": [
       "ride_id                        0\n",
       "rider_id                       0\n",
       "upfront_fare                4977\n",
       "rider_paid_amount              0\n",
       "eta_to_rider_pre_match     67403\n",
       "eta_to_rider_post_match    34522\n",
       "cancellation_flag              0\n",
       "rider_request_number           0\n",
       "variant                        0\n",
       "cancel_penalty                 0\n",
       "requested_day_of_year          0\n",
       "requested_on_day               0\n",
       "requested_at_time              0\n",
       "requested_at_hour              0\n",
       "accepted_day_of_year       34522\n",
       "accepted_on_day            34522\n",
       "accepted_at_time           34522\n",
       "accepted_at_hour           34522\n",
       "standard_ridetype              0\n",
       "dtype: int64"
      ]
     },
     "execution_count": 46,
     "metadata": {},
     "output_type": "execute_result"
    }
   ],
   "source": [
    "ride_data.isnull().sum()"
   ]
  },
  {
   "cell_type": "markdown",
   "metadata": {},
   "source": [
    "\n",
    "#### The following \"analyze_NA\" function returns a pandas dataframe that denotes all the total NA values and percentage of NA values.\n",
    "\n",
    "The column names are mentioned on the index"
   ]
  },
  {
   "cell_type": "code",
   "execution_count": 47,
   "metadata": {},
   "outputs": [],
   "source": [
    "def analyze_NA(data):\n",
    "    \n",
    "    null_sum = data.isnull().sum()                      # instantiate columns for missing data\n",
    "    \n",
    "    total_ = null_sum.sort_values(ascending=False)\n",
    "    \n",
    "    percentage = ( ((null_sum / len(data.index))*100).round(2) ).sort_values(ascending=False)\n",
    "    \n",
    "    # Concatenate along the columns to create the complete dataframe\n",
    "    \n",
    "    datafr_NA = pd.concat([total_, percentage], axis=1, keys=['Number of NA', 'Percentage of NA'])\n",
    "    \n",
    "    # Drop rows that don't have any missing data; omit if you want to keep all rows\n",
    "    \n",
    "    datafr_NA = datafr_NA[ (datafr_NA.T != 0).any() ]\n",
    "    \n",
    "    return datafr_NA"
   ]
  },
  {
   "cell_type": "code",
   "execution_count": 48,
   "metadata": {},
   "outputs": [
    {
     "data": {
      "text/html": [
       "<div>\n",
       "<style scoped>\n",
       "    .dataframe tbody tr th:only-of-type {\n",
       "        vertical-align: middle;\n",
       "    }\n",
       "\n",
       "    .dataframe tbody tr th {\n",
       "        vertical-align: top;\n",
       "    }\n",
       "\n",
       "    .dataframe thead th {\n",
       "        text-align: right;\n",
       "    }\n",
       "</style>\n",
       "<table border=\"1\" class=\"dataframe\">\n",
       "  <thead>\n",
       "    <tr style=\"text-align: right;\">\n",
       "      <th></th>\n",
       "      <th>Number of NA</th>\n",
       "      <th>Percentage of NA</th>\n",
       "    </tr>\n",
       "  </thead>\n",
       "  <tbody>\n",
       "    <tr>\n",
       "      <th>eta_to_rider_pre_match</th>\n",
       "      <td>67403</td>\n",
       "      <td>4.81</td>\n",
       "    </tr>\n",
       "    <tr>\n",
       "      <th>accepted_at_time</th>\n",
       "      <td>34522</td>\n",
       "      <td>2.46</td>\n",
       "    </tr>\n",
       "    <tr>\n",
       "      <th>accepted_on_day</th>\n",
       "      <td>34522</td>\n",
       "      <td>2.46</td>\n",
       "    </tr>\n",
       "    <tr>\n",
       "      <th>accepted_day_of_year</th>\n",
       "      <td>34522</td>\n",
       "      <td>2.46</td>\n",
       "    </tr>\n",
       "    <tr>\n",
       "      <th>accepted_at_hour</th>\n",
       "      <td>34522</td>\n",
       "      <td>2.46</td>\n",
       "    </tr>\n",
       "    <tr>\n",
       "      <th>eta_to_rider_post_match</th>\n",
       "      <td>34522</td>\n",
       "      <td>2.46</td>\n",
       "    </tr>\n",
       "    <tr>\n",
       "      <th>upfront_fare</th>\n",
       "      <td>4977</td>\n",
       "      <td>0.35</td>\n",
       "    </tr>\n",
       "  </tbody>\n",
       "</table>\n",
       "</div>"
      ],
      "text/plain": [
       "                         Number of NA  Percentage of NA\n",
       "eta_to_rider_pre_match          67403              4.81\n",
       "accepted_at_time                34522              2.46\n",
       "accepted_on_day                 34522              2.46\n",
       "accepted_day_of_year            34522              2.46\n",
       "accepted_at_hour                34522              2.46\n",
       "eta_to_rider_post_match         34522              2.46\n",
       "upfront_fare                     4977              0.35"
      ]
     },
     "execution_count": 48,
     "metadata": {},
     "output_type": "execute_result"
    }
   ],
   "source": [
    "analyze_NA(ride_data)"
   ]
  },
  {
   "cell_type": "markdown",
   "metadata": {},
   "source": [
    "#### Let's check how much the missing value in some features constitutes for in the given dataset"
   ]
  },
  {
   "cell_type": "code",
   "execution_count": 49,
   "metadata": {},
   "outputs": [
    {
     "name": "stdout",
     "output_type": "stream",
     "text": [
      "\n",
      "The missing values in upfront_fare constitutes for 0.35 %\n",
      "\n",
      "The missing values in eta_to_rider_pre_match constitutes for 4.81 %\n",
      "\n",
      "The missing values in eta_to_rider_post_match constitutes for 2.46 %\n",
      "\n",
      "The missing values in accepted_at_hour constitutes for 2.46 %\n",
      "\n"
     ]
    }
   ],
   "source": [
    "print(\"\\nThe missing values in upfront_fare constitutes for\",\n",
    "      (100*(ride_data[\"upfront_fare\"].isnull().sum())/(sum(ride_data[\"upfront_fare\"].shape))).round(2), \"%\")\n",
    "\n",
    "print(\"\\nThe missing values in eta_to_rider_pre_match constitutes for\",\n",
    "      (100*(ride_data[\"eta_to_rider_pre_match\"].isnull().sum())/(sum(ride_data[\"eta_to_rider_pre_match\"].shape))\n",
    "      ).round(2), \"%\")\n",
    "\n",
    "print(\"\\nThe missing values in eta_to_rider_post_match constitutes for\",\n",
    "      (100*(ride_data[\"eta_to_rider_post_match\"].isnull().sum())/(sum(ride_data[\"eta_to_rider_post_match\"].shape))\n",
    "      ).round(2), \"%\")\n",
    "\n",
    "print(\"\\nThe missing values in accepted_at_hour constitutes for\",\n",
    "      (100*(ride_data[\"accepted_at_hour\"].isnull().sum())/(sum(ride_data[\"accepted_at_hour\"].shape))).round(2), \n",
    "      \"%\\n\")"
   ]
  },
  {
   "cell_type": "markdown",
   "metadata": {},
   "source": [
    "From the above output, it is clear that the missing values in upfront_fare, eta_to_rider_pre_match, eta_to_rider_post_match, and accepted_at_hour does not exceed 5% of the total data.\n",
    "\n",
    "\n",
    "Here, instead of dropping these features, **we will replace the missing values with the mean of their respective columns**\n"
   ]
  },
  {
   "cell_type": "code",
   "execution_count": 50,
   "metadata": {},
   "outputs": [
    {
     "data": {
      "text/html": [
       "<div>\n",
       "<style scoped>\n",
       "    .dataframe tbody tr th:only-of-type {\n",
       "        vertical-align: middle;\n",
       "    }\n",
       "\n",
       "    .dataframe tbody tr th {\n",
       "        vertical-align: top;\n",
       "    }\n",
       "\n",
       "    .dataframe thead th {\n",
       "        text-align: right;\n",
       "    }\n",
       "</style>\n",
       "<table border=\"1\" class=\"dataframe\">\n",
       "  <thead>\n",
       "    <tr style=\"text-align: right;\">\n",
       "      <th></th>\n",
       "      <th>upfront_fare</th>\n",
       "      <th>eta_to_rider_pre_match</th>\n",
       "      <th>eta_to_rider_post_match</th>\n",
       "      <th>accepted_at_hour</th>\n",
       "    </tr>\n",
       "  </thead>\n",
       "  <tbody>\n",
       "    <tr>\n",
       "      <th>count</th>\n",
       "      <td>1397335.00</td>\n",
       "      <td>1334909.00</td>\n",
       "      <td>1367790.00</td>\n",
       "      <td>1367790.00</td>\n",
       "    </tr>\n",
       "    <tr>\n",
       "      <th>mean</th>\n",
       "      <td>14.07</td>\n",
       "      <td>218.63</td>\n",
       "      <td>222.49</td>\n",
       "      <td>13.96</td>\n",
       "    </tr>\n",
       "    <tr>\n",
       "      <th>std</th>\n",
       "      <td>10.96</td>\n",
       "      <td>149.91</td>\n",
       "      <td>523.11</td>\n",
       "      <td>5.92</td>\n",
       "    </tr>\n",
       "    <tr>\n",
       "      <th>min</th>\n",
       "      <td>2.75</td>\n",
       "      <td>60.00</td>\n",
       "      <td>0.00</td>\n",
       "      <td>0.00</td>\n",
       "    </tr>\n",
       "    <tr>\n",
       "      <th>25%</th>\n",
       "      <td>7.56</td>\n",
       "      <td>120.00</td>\n",
       "      <td>113.00</td>\n",
       "      <td>9.00</td>\n",
       "    </tr>\n",
       "    <tr>\n",
       "      <th>50%</th>\n",
       "      <td>10.46</td>\n",
       "      <td>184.00</td>\n",
       "      <td>185.00</td>\n",
       "      <td>15.00</td>\n",
       "    </tr>\n",
       "    <tr>\n",
       "      <th>75%</th>\n",
       "      <td>15.83</td>\n",
       "      <td>300.00</td>\n",
       "      <td>292.00</td>\n",
       "      <td>19.00</td>\n",
       "    </tr>\n",
       "    <tr>\n",
       "      <th>max</th>\n",
       "      <td>629.19</td>\n",
       "      <td>1533.00</td>\n",
       "      <td>584845.00</td>\n",
       "      <td>23.00</td>\n",
       "    </tr>\n",
       "  </tbody>\n",
       "</table>\n",
       "</div>"
      ],
      "text/plain": [
       "       upfront_fare  eta_to_rider_pre_match  eta_to_rider_post_match  \\\n",
       "count    1397335.00              1334909.00               1367790.00   \n",
       "mean          14.07                  218.63                   222.49   \n",
       "std           10.96                  149.91                   523.11   \n",
       "min            2.75                   60.00                     0.00   \n",
       "25%            7.56                  120.00                   113.00   \n",
       "50%           10.46                  184.00                   185.00   \n",
       "75%           15.83                  300.00                   292.00   \n",
       "max          629.19                 1533.00                584845.00   \n",
       "\n",
       "       accepted_at_hour  \n",
       "count        1367790.00  \n",
       "mean              13.96  \n",
       "std                5.92  \n",
       "min                0.00  \n",
       "25%                9.00  \n",
       "50%               15.00  \n",
       "75%               19.00  \n",
       "max               23.00  "
      ]
     },
     "execution_count": 50,
     "metadata": {},
     "output_type": "execute_result"
    }
   ],
   "source": [
    "ride_data[[\"upfront_fare\", \"eta_to_rider_pre_match\", \n",
    "                 \"eta_to_rider_post_match\", \"accepted_at_hour\"]].describe().round(2)"
   ]
  },
  {
   "cell_type": "code",
   "execution_count": 51,
   "metadata": {},
   "outputs": [],
   "source": [
    "ride_data['upfront_fare'].fillna((ride_data['upfront_fare'].mean()), inplace=True)\n",
    "ride_data['eta_to_rider_pre_match'].fillna((ride_data['eta_to_rider_pre_match'].mean()), inplace=True)\n",
    "ride_data['eta_to_rider_post_match'].fillna((ride_data['eta_to_rider_post_match'].mean()), inplace=True)\n",
    "ride_data['accepted_at_hour'].fillna((ride_data['accepted_at_hour'].mean()), inplace=True)"
   ]
  },
  {
   "cell_type": "code",
   "execution_count": 52,
   "metadata": {},
   "outputs": [
    {
     "data": {
      "text/plain": [
       "ride_id                        0\n",
       "rider_id                       0\n",
       "upfront_fare                   0\n",
       "rider_paid_amount              0\n",
       "eta_to_rider_pre_match         0\n",
       "eta_to_rider_post_match        0\n",
       "cancellation_flag              0\n",
       "rider_request_number           0\n",
       "variant                        0\n",
       "cancel_penalty                 0\n",
       "requested_day_of_year          0\n",
       "requested_on_day               0\n",
       "requested_at_time              0\n",
       "requested_at_hour              0\n",
       "accepted_day_of_year       34522\n",
       "accepted_on_day            34522\n",
       "accepted_at_time           34522\n",
       "accepted_at_hour               0\n",
       "standard_ridetype              0\n",
       "dtype: int64"
      ]
     },
     "execution_count": 52,
     "metadata": {},
     "output_type": "execute_result"
    }
   ],
   "source": [
    "ride_data.isnull().sum()"
   ]
  },
  {
   "cell_type": "code",
   "execution_count": 53,
   "metadata": {},
   "outputs": [
    {
     "name": "stdout",
     "output_type": "stream",
     "text": [
      "Average upfront fare\t: $ 14.07 \n",
      "Rider paid amount\t: $ 13.21\n",
      "\n",
      "Highest difference(for completed rides) between Upfront fare (price quoted) and the actual amount charged: $ 2.24\n"
     ]
    }
   ],
   "source": [
    "print(\"Average upfront fare\\t: $\",ride_data[\"upfront_fare\"].mean().round(2), \n",
    "      \"\\nRider paid amount\\t: $\",ride_data[\"rider_paid_amount\"].mean().round(2))\n",
    "\n",
    "print(\"\\nHighest difference(for completed rides) between Upfront fare (price quoted) and the actual amount charged: $\",\n",
    "      ((ride_data[ride_data[\"cancellation_flag\"]==1][\"rider_paid_amount\"])-\n",
    "(ride_data[ride_data[\"cancellation_flag\"]==1][\"upfront_fare\"])).max())"
   ]
  },
  {
   "cell_type": "markdown",
   "metadata": {},
   "source": [
    "### We will now start with Modeling"
   ]
  },
  {
   "cell_type": "markdown",
   "metadata": {},
   "source": [
    "I will use Logistic regression to try and predict the cancellation of the ride.\n",
    "\n",
    "\n",
    "Logistic regression is a statistical method used for predicting binary classes. The outcome or target variable is binary in nature. In our project, we are using Logistic Regression to detect ride cancellation. It is a special case of linear regression where the target variable is categorical in nature. It uses a log of odds as the dependent variable.\n",
    "\n",
    "\n",
    "The target variable will be cancellation_flag\n",
    "\n",
    "\n",
    "The feature set will include:\n",
    "\n",
    "\n",
    "- upfront_fare\n",
    "\n",
    "\n",
    "- eta_to_rider_pre_match\n",
    "\n",
    "\n",
    "- rider_paid_amount\n",
    "\n",
    "\n",
    "- eta_to_rider_post_match\n",
    "\n",
    "\n",
    "- cancel_penalty\n",
    "\n"
   ]
  },
  {
   "cell_type": "code",
   "execution_count": 54,
   "metadata": {},
   "outputs": [],
   "source": [
    "# Libraries for modelling\n",
    "\n",
    "from sklearn import datasets, metrics, linear_model, feature_selection, preprocessing\n",
    "from sklearn.metrics import mean_squared_error, mean_absolute_error, r2_score, confusion_matrix\n",
    "from sklearn.model_selection import cross_val_predict, cross_val_score, train_test_split\n",
    "from sklearn.metrics import classification_report, confusion_matrix, accuracy_score, roc_curve, auc\n",
    "from sklearn.linear_model import LogisticRegression, LogisticRegressionCV\n",
    "from sklearn.model_selection import GridSearchCV\n",
    "from sklearn.preprocessing import StandardScaler\n",
    "import itertools"
   ]
  },
  {
   "cell_type": "code",
   "execution_count": 55,
   "metadata": {},
   "outputs": [],
   "source": [
    "# Define target and feature set for modelling\n",
    "\n",
    "X = ride_data[[\"upfront_fare\", \"eta_to_rider_pre_match\", \"eta_to_rider_post_match\", \"rider_paid_amount\", \"cancel_penalty\"]]\n",
    "\n",
    "Y = ride_data.cancellation_flag"
   ]
  },
  {
   "cell_type": "code",
   "execution_count": 56,
   "metadata": {},
   "outputs": [],
   "source": [
    "# Define the scaler\n",
    "\n",
    "ss = StandardScaler()\n",
    "\n",
    "\n",
    "# Scaling the feature set\n",
    "\n",
    "XS = ss.fit_transform(X)\n"
   ]
  },
  {
   "cell_type": "markdown",
   "metadata": {},
   "source": [
    "#### Defining our model"
   ]
  },
  {
   "cell_type": "code",
   "execution_count": 57,
   "metadata": {},
   "outputs": [],
   "source": [
    "\n",
    "LR = LogisticRegression()                     # Using the standard parameters of the model, Instantiate the object\n",
    "\n",
    "model = LR.fit(XS, Y)                         # Fitting the model with our target and features\n"
   ]
  },
  {
   "cell_type": "markdown",
   "metadata": {},
   "source": [
    "#### Determine preditions from the model and print the accuracy of the model"
   ]
  },
  {
   "cell_type": "code",
   "execution_count": 58,
   "metadata": {},
   "outputs": [
    {
     "name": "stdout",
     "output_type": "stream",
     "text": [
      "Accuracy: 0.9869486961532098\n"
     ]
    }
   ],
   "source": [
    "Y_pred = model.predict(XS)\n",
    "\n",
    "print('Accuracy:', accuracy_score(Y, Y_pred))\n"
   ]
  },
  {
   "cell_type": "markdown",
   "metadata": {},
   "source": [
    "#### Classification report without cross-validation"
   ]
  },
  {
   "cell_type": "code",
   "execution_count": 59,
   "metadata": {},
   "outputs": [
    {
     "name": "stdout",
     "output_type": "stream",
     "text": [
      "              precision    recall  f1-score   support\n",
      "\n",
      "           0       0.99      0.99      0.99   1195262\n",
      "           1       0.96      0.95      0.96    207050\n",
      "\n",
      "    accuracy                           0.99   1402312\n",
      "   macro avg       0.97      0.97      0.97   1402312\n",
      "weighted avg       0.99      0.99      0.99   1402312\n",
      "\n"
     ]
    }
   ],
   "source": [
    "print(classification_report(Y, Y_pred))"
   ]
  },
  {
   "cell_type": "markdown",
   "metadata": {},
   "source": [
    "#### Setting the feature importance to a variable"
   ]
  },
  {
   "cell_type": "code",
   "execution_count": 60,
   "metadata": {},
   "outputs": [],
   "source": [
    "feature_imp = model.coef_\n"
   ]
  },
  {
   "cell_type": "markdown",
   "metadata": {},
   "source": [
    "#### Sorting the feature importance"
   ]
  },
  {
   "cell_type": "code",
   "execution_count": 61,
   "metadata": {},
   "outputs": [],
   "source": [
    "indices_ = np.argsort(np.absolute(feature_imp))\n"
   ]
  },
  {
   "cell_type": "markdown",
   "metadata": {},
   "source": [
    "#### Plotting the feature importance"
   ]
  },
  {
   "cell_type": "code",
   "execution_count": 62,
   "metadata": {},
   "outputs": [
    {
     "data": {
      "image/png": "[encoded data removed]",
      "text/plain": [
       "<Figure size 1152x432 with 1 Axes>"
      ]
     },
     "metadata": {},
     "output_type": "display_data"
    }
   ],
   "source": [
    "plt.figure(figsize = (16, 6))\n",
    "\n",
    "plt.title(\"Feature importance\\n\", fontsize = 20)\n",
    "\n",
    "plt.bar(range(XS.shape[1]), feature_imp[0][indices_][0][::-1], align=\"center\")\n",
    "plt.ylabel('Feature coefficient', size = 17)\n",
    "plt.xlabel('Feature variables', size = 17)\n",
    "plt.xticks(range(X.shape[1]), X.columns[indices_][0][::-1], rotation=45)\n",
    "plt.xlim([-1, X.shape[1]])\n",
    "plt.show()"
   ]
  },
  {
   "cell_type": "markdown",
   "metadata": {},
   "source": [
    "#### Create a different dataframe to display the odds ratio"
   ]
  },
  {
   "cell_type": "code",
   "execution_count": 63,
   "metadata": {},
   "outputs": [],
   "source": [
    "odds_ratio_ = pd.DataFrame(np.transpose(model.coef_), index = X.columns, columns = [\"Coeffecient value\"])"
   ]
  },
  {
   "cell_type": "markdown",
   "metadata": {},
   "source": [
    "#### Create odds colums: For this, we need to calculate the exponents of the coefficients"
   ]
  },
  {
   "cell_type": "code",
   "execution_count": 64,
   "metadata": {},
   "outputs": [],
   "source": [
    "odds_ratio_[\"Odds\"] = odds_ratio_[\"Coeffecient value\"].apply(np.exp)"
   ]
  },
  {
   "cell_type": "markdown",
   "metadata": {},
   "source": [
    "#### Display the odds ratio"
   ]
  },
  {
   "cell_type": "code",
   "execution_count": 65,
   "metadata": {},
   "outputs": [
    {
     "data": {
      "text/html": [
       "<div>\n",
       "<style scoped>\n",
       "    .dataframe tbody tr th:only-of-type {\n",
       "        vertical-align: middle;\n",
       "    }\n",
       "\n",
       "    .dataframe tbody tr th {\n",
       "        vertical-align: top;\n",
       "    }\n",
       "\n",
       "    .dataframe thead th {\n",
       "        text-align: right;\n",
       "    }\n",
       "</style>\n",
       "<table border=\"1\" class=\"dataframe\">\n",
       "  <thead>\n",
       "    <tr style=\"text-align: right;\">\n",
       "      <th></th>\n",
       "      <th>Coeffecient value</th>\n",
       "      <th>Odds</th>\n",
       "    </tr>\n",
       "  </thead>\n",
       "  <tbody>\n",
       "    <tr>\n",
       "      <th>upfront_fare</th>\n",
       "      <td>3.957700</td>\n",
       "      <td>5.233683e+01</td>\n",
       "    </tr>\n",
       "    <tr>\n",
       "      <th>eta_to_rider_post_match</th>\n",
       "      <td>1.743048</td>\n",
       "      <td>5.714737e+00</td>\n",
       "    </tr>\n",
       "    <tr>\n",
       "      <th>cancel_penalty</th>\n",
       "      <td>1.698681</td>\n",
       "      <td>5.466730e+00</td>\n",
       "    </tr>\n",
       "    <tr>\n",
       "      <th>eta_to_rider_pre_match</th>\n",
       "      <td>-0.219906</td>\n",
       "      <td>8.025942e-01</td>\n",
       "    </tr>\n",
       "    <tr>\n",
       "      <th>rider_paid_amount</th>\n",
       "      <td>-25.588700</td>\n",
       "      <td>7.708478e-12</td>\n",
       "    </tr>\n",
       "  </tbody>\n",
       "</table>\n",
       "</div>"
      ],
      "text/plain": [
       "                         Coeffecient value          Odds\n",
       "upfront_fare                      3.957700  5.233683e+01\n",
       "eta_to_rider_post_match           1.743048  5.714737e+00\n",
       "cancel_penalty                    1.698681  5.466730e+00\n",
       "eta_to_rider_pre_match           -0.219906  8.025942e-01\n",
       "rider_paid_amount               -25.588700  7.708478e-12"
      ]
     },
     "execution_count": 65,
     "metadata": {},
     "output_type": "execute_result"
    }
   ],
   "source": [
    "odds_ratio_[\"Odds\"].astype(np.float64).round(3)\n",
    "odds_ratio_.sort_values(by = 'Odds', ascending = False)"
   ]
  },
  {
   "cell_type": "markdown",
   "metadata": {},
   "source": [
    "#### From the above output, \n",
    "\n",
    "we can clearly see that **upfront_fare** and **eta_to_rider_post_match** comes out on top when predicting the cancellation flag"
   ]
  },
  {
   "cell_type": "markdown",
   "metadata": {},
   "source": [
    "___\n",
    "\n",
    "In order to check whether our model works, we will pass in a fictitious passenger\n",
    "We will make changes to one of the observation and store it in an array, then pass that array through our model \n",
    "to see what our model estimates\n"
   ]
  },
  {
   "cell_type": "code",
   "execution_count": 66,
   "metadata": {
    "scrolled": true
   },
   "outputs": [
    {
     "data": {
      "text/html": [
       "<div>\n",
       "<style scoped>\n",
       "    .dataframe tbody tr th:only-of-type {\n",
       "        vertical-align: middle;\n",
       "    }\n",
       "\n",
       "    .dataframe tbody tr th {\n",
       "        vertical-align: top;\n",
       "    }\n",
       "\n",
       "    .dataframe thead th {\n",
       "        text-align: right;\n",
       "    }\n",
       "</style>\n",
       "<table border=\"1\" class=\"dataframe\">\n",
       "  <thead>\n",
       "    <tr style=\"text-align: right;\">\n",
       "      <th></th>\n",
       "      <th>ride_id</th>\n",
       "      <th>rider_id</th>\n",
       "      <th>upfront_fare</th>\n",
       "      <th>rider_paid_amount</th>\n",
       "      <th>eta_to_rider_pre_match</th>\n",
       "      <th>eta_to_rider_post_match</th>\n",
       "      <th>cancellation_flag</th>\n",
       "      <th>rider_request_number</th>\n",
       "      <th>variant</th>\n",
       "      <th>cancel_penalty</th>\n",
       "      <th>requested_day_of_year</th>\n",
       "      <th>requested_on_day</th>\n",
       "      <th>requested_at_time</th>\n",
       "      <th>requested_at_hour</th>\n",
       "      <th>accepted_day_of_year</th>\n",
       "      <th>accepted_on_day</th>\n",
       "      <th>accepted_at_time</th>\n",
       "      <th>accepted_at_hour</th>\n",
       "      <th>standard_ridetype</th>\n",
       "    </tr>\n",
       "  </thead>\n",
       "  <tbody>\n",
       "    <tr>\n",
       "      <th>1006</th>\n",
       "      <td>PI4pncdk2enh0YQzK+PFQg==</td>\n",
       "      <td>UmAFzqJ2G+MJyPl2Kld8qQ==</td>\n",
       "      <td>9.62</td>\n",
       "      <td>1.0</td>\n",
       "      <td>535.0</td>\n",
       "      <td>222.490712</td>\n",
       "      <td>1</td>\n",
       "      <td>17</td>\n",
       "      <td>treatment2</td>\n",
       "      <td>1.0</td>\n",
       "      <td>137</td>\n",
       "      <td>4</td>\n",
       "      <td>08:42:07</td>\n",
       "      <td>8</td>\n",
       "      <td>NaN</td>\n",
       "      <td>NaN</td>\n",
       "      <td>NaT</td>\n",
       "      <td>13.960179</td>\n",
       "      <td>0</td>\n",
       "    </tr>\n",
       "  </tbody>\n",
       "</table>\n",
       "</div>"
      ],
      "text/plain": [
       "                       ride_id                  rider_id  upfront_fare  \\\n",
       "1006  PI4pncdk2enh0YQzK+PFQg==  UmAFzqJ2G+MJyPl2Kld8qQ==          9.62   \n",
       "\n",
       "      rider_paid_amount  eta_to_rider_pre_match  eta_to_rider_post_match  \\\n",
       "1006                1.0                   535.0               222.490712   \n",
       "\n",
       "      cancellation_flag  rider_request_number     variant  cancel_penalty  \\\n",
       "1006                  1                    17  treatment2             1.0   \n",
       "\n",
       "      requested_day_of_year  requested_on_day requested_at_time  \\\n",
       "1006                    137                 4          08:42:07   \n",
       "\n",
       "      requested_at_hour  accepted_day_of_year  accepted_on_day  \\\n",
       "1006                  8                   NaN              NaN   \n",
       "\n",
       "     accepted_at_time  accepted_at_hour  standard_ridetype  \n",
       "1006              NaT         13.960179                  0  "
      ]
     },
     "execution_count": 66,
     "metadata": {},
     "output_type": "execute_result"
    }
   ],
   "source": [
    "ride_data[1006:1007]"
   ]
  },
  {
   "cell_type": "markdown",
   "metadata": {},
   "source": [
    "For the above observation, we can see that the cancellation flag is 1\n",
    "\n",
    "We will increase the eta_to_rider_pre_match from 535 to 600 sec and then see if the rider cancels the ride."
   ]
  },
  {
   "cell_type": "code",
   "execution_count": 67,
   "metadata": {},
   "outputs": [
    {
     "name": "stdout",
     "output_type": "stream",
     "text": [
      "Cancellation_flag for above mentioned test_condition:  [1]\n"
     ]
    }
   ],
   "source": [
    "test_passenger_ = np.array([9.62, 600.0, 222.490712, 1.0, 1.0]).reshape(1,-1)\n",
    "\n",
    "# Our model will predict the cancellation_flag for the test_passenger\n",
    "\n",
    "print(\"Cancellation_flag for above mentioned test_condition: \",LR.predict(test_passenger_))"
   ]
  },
  {
   "cell_type": "markdown",
   "metadata": {},
   "source": [
    "### Let's start with Cross-validation"
   ]
  },
  {
   "cell_type": "markdown",
   "metadata": {},
   "source": [
    "Using cross-validation, we will be evaluating following metrics -\n",
    "\n",
    "- **Accuracy** = (TP+TN)/(TP+FP+TN+FN)\n",
    "\n",
    "- **Precision** = TP/(TP+FP)\n",
    "\n",
    "- **Recall** = TP/(TP+FN)\n"
   ]
  },
  {
   "cell_type": "code",
   "execution_count": null,
   "metadata": {},
   "outputs": [],
   "source": [
    "# List of the metrics that is used for evaluation\n",
    "\n",
    "metrics_ = ['accuracy', 'precision', 'recall']\n",
    "\n",
    "# Defining the model\n",
    "\n",
    "\n",
    "# We will be using L2 regularisation and 4-fold cross-validation\n",
    "\n",
    "LG = LogisticRegressionCV(penalty = 'l2', cv = 4, solver = 'liblinear') \n",
    "\n",
    "\n",
    "# We will then loop through different metrics and print its mean after the 4-fold cross-validation\n",
    "\n",
    "for metric in metrics_:\n",
    "    \n",
    "    score = cross_val_score(LG, XS, Y, scoring = metric, cv = 4)\n",
    "    \n",
    "    print(metric, '\\t:' , score.mean())\n",
    "\n"
   ]
  },
  {
   "cell_type": "markdown",
   "metadata": {},
   "source": [
    "#### I will now plot a confusion matrix, \n",
    "\n",
    "- Confusion Matrix is a performance measurement for ML classification problems, where the output can be two or more classes. It is a table with 4 different combinations of predicted and actual values.\n",
    "\n",
    "\n",
    "- This will help us understand the aforementioned metrics better.\n"
   ]
  },
  {
   "cell_type": "code",
   "execution_count": null,
   "metadata": {},
   "outputs": [],
   "source": [
    "# Let's start first by Defining a function that will plot confusion matrix\n",
    "\n",
    "def confusion_matrix_(cm, classes, title='Confusion matrix for Ride-Cancellation\\n', cmap=plt.cm.Blues):\n",
    "    \n",
    "    plt.imshow(cm, interpolation='nearest', cmap=cmap)\n",
    "    \n",
    "    plt.figsize = (10,10)\n",
    "    \n",
    "    plt.title(title, size = 15)\n",
    "    \n",
    "    plt.colorbar()\n",
    "    \n",
    "    tick_marks = np.arange(len(classes))\n",
    "    \n",
    "    plt.xticks(tick_marks, classes, rotation=45)\n",
    "    \n",
    "    plt.yticks(tick_marks, classes)\n",
    "    \n",
    "    thresh = cm.max() / 2.0\n",
    "    \n",
    "    for i, j in itertools.product(range(cm.shape[0]), range(cm.shape[1])):\n",
    "        plt.text(j, i, cm[i, j],\n",
    "                 horizontalalignment=\"center\",\n",
    "                 color=\"white\" if cm[i, j] > thresh else \"black\")\n",
    "    \n",
    "    plt.ylabel('True Cancellation')\n",
    "    plt.xlabel('Predicted Cancellation')\n",
    "    plt.show()\n",
    "    \n",
    "    return\n"
   ]
  },
  {
   "cell_type": "code",
   "execution_count": null,
   "metadata": {},
   "outputs": [],
   "source": [
    "# Plot confusion matrix\n",
    "\n",
    "cnf_matrix = confusion_matrix(Y, model.predict(XS))\n",
    "\n",
    "plt.figure(figsize=(12,12))\n",
    "\n",
    "confusion_matrix_(cnf_matrix, classes= ['Low', 'High'])\n"
   ]
  },
  {
   "cell_type": "markdown",
   "metadata": {},
   "source": [
    "**The accuracy answers the question - How often is the classifier correct?**\n",
    "\n",
    "- For this model the accuracy score was 0.98 which is a good for the model, and is above the baseline. \n",
    "- It also means that the model is good at predicting cancellation over random choice \n",
    "\n",
    "\n",
    "**The precision answers the question - When the classifier predicts yes, how often is it correct?**\n",
    "\n",
    "- The score for the precision on our model was 0.96\n",
    "\n",
    "\n",
    "**The recall answers the question - When it is actually yes, how often does the classifier predict yes?**\n",
    "\n",
    "- The score for the precision on our model was 0.95"
   ]
  },
  {
   "cell_type": "markdown",
   "metadata": {},
   "source": [
    "### ROC Curve"
   ]
  },
  {
   "cell_type": "markdown",
   "metadata": {},
   "source": [
    "#### I will now plot a receiver operating characteristic (ROC) curve to look at the area under the curve (AUC)"
   ]
  },
  {
   "cell_type": "markdown",
   "metadata": {},
   "source": [
    "An ROC curve helps us demonstrates following things:\n",
    "\n",
    "- The tradeoff between sensitivity and specificity (sensitivity is inversely proportional to specificity).\n",
    "\n",
    "- The closer the ROC curve follows the left-hand border and the top border, the more accurate is the test.\n",
    "\n",
    "- The closer the curve comes to the 45-degree diagonal of the ROC space, the less accurate the test."
   ]
  },
  {
   "cell_type": "code",
   "execution_count": null,
   "metadata": {},
   "outputs": [],
   "source": [
    "# Plot ROC curve\n",
    "\n",
    "FPR, TPR, THR = roc_curve(Y, model.predict_proba(XS)[:,1])\n",
    "ROC_AUC = auc(FPR, TPR)\n",
    "\n",
    "plt.figure(figsize = [12,12])\n",
    "plt.plot(FPR, TPR, label='ROC curve (Area = %0.5f)' % ROC_AUC, linewidth = 4)\n",
    "plt.plot([0, 1], [0, 1], 'k--', linewidth=4)\n",
    "plt.xlim([0.0, 1.0])\n",
    "plt.ylim([0.0, 1.05])\n",
    "plt.xlabel('False Positive Rate', fontsize=17)\n",
    "plt.ylabel('True Positive Rate ', fontsize=17)\n",
    "plt.title('ROC curve \\n', fontsize=20)\n",
    "plt.legend(loc = \"lower right\")\n",
    "plt.show()"
   ]
  },
  {
   "cell_type": "markdown",
   "metadata": {},
   "source": [
    "____"
   ]
  },
  {
   "cell_type": "markdown",
   "metadata": {},
   "source": [
    "## Summary:"
   ]
  },
  {
   "cell_type": "markdown",
   "metadata": {},
   "source": [
    "After analysing ride_data and experiment_data, we were. able to derive a lot of useful insights about the ride cancellation. Different factors played an important role when it comes to rider cancelling a ride. \n",
    "\n",
    "By grouping together different features in dataset and after performing some feature engineering, we were able to segregate many important information like revenue generated from cancelled ride (shared and standard), peak hours for ride requests and cancellations, weekday with highest ride cancellation, etc.\n",
    "\n",
    "\n",
    "An optimised Logistic Regression model was used on the following features:\n",
    "\n",
    "- **upfront_fare**\n",
    "\n",
    "\n",
    "- **rider_paid_amount**\n",
    "\n",
    "\n",
    "- **eta_to_rider_pre_match**\n",
    "\n",
    "\n",
    "- **eta_to_rider_post_match**\n",
    "\n",
    "\n",
    "- **cancel_penalty**\n",
    "\n",
    "\n",
    "With an accuracy score of 0.98, the following features emerged as being the best predictors for identifying whether the rider will cancel the ride or not: \n",
    "\n",
    "- **upfront_fare**\n",
    "\n",
    "\n",
    "- **eta_to_rider_post_match**\n",
    "\n",
    "\n",
    "This also makes sense, as many riders would cancel their ride after either seeing how much it cost, or after seeing how much time the driver takes to reach at rider's place for the pick.\n",
    "\n",
    "\n"
   ]
  },
  {
   "cell_type": "markdown",
   "metadata": {},
   "source": [
    "### Future work"
   ]
  },
  {
   "cell_type": "markdown",
   "metadata": {},
   "source": [
    "Moving forward with the data analysis, it would be interesting to have- \n",
    "\n",
    "\n",
    "- Closer look into the cohort analysis of the driver to gain a better pattern of the driver's cancellation (when they are the one who cancel the ride).\n",
    "\n",
    "\n",
    "- Get to look around different features in the driver's data set to try and optimise the model that identifies driver's churn rate and different factors for predicting the driver Lifetime Value.\n",
    "\n",
    "\n",
    "Lastly, with so much happening around, and world coming on standstill with the economy shutting down, It would be interesting to see driver and rider's behavior with the ride sharing platform, and different factors that are contributing to the rate of cancellation in this situation."
   ]
  }
 ],
 "metadata": {
  "kernelspec": {
   "display_name": "Python 3.7 (tensorflow)",
   "language": "python",
   "name": "tensorflow"
  },
  "language_info": {
   "codemirror_mode": {
    "name": "ipython",
    "version": 3
   },
   "file_extension": ".py",
   "mimetype": "text/x-python",
   "name": "python",
   "nbconvert_exporter": "python",
   "pygments_lexer": "ipython3",
   "version": "3.7.4"
  }
 },
 "nbformat": 4,
 "nbformat_minor": 2
}
